{
  "nbformat": 4,
  "nbformat_minor": 0,
  "metadata": {
    "colab": {
      "provenance": []
    },
    "kernelspec": {
      "name": "python3",
      "display_name": "Python 3"
    },
    "language_info": {
      "name": "python"
    },
    "accelerator": "TPU",
    "widgets": {
      "application/vnd.jupyter.widget-state+json": {
        "90e692950b57421bab82466d8d4fc632": {
          "model_module": "@jupyter-widgets/controls",
          "model_name": "HBoxModel",
          "model_module_version": "1.5.0",
          "state": {
            "_dom_classes": [],
            "_model_module": "@jupyter-widgets/controls",
            "_model_module_version": "1.5.0",
            "_model_name": "HBoxModel",
            "_view_count": null,
            "_view_module": "@jupyter-widgets/controls",
            "_view_module_version": "1.5.0",
            "_view_name": "HBoxView",
            "box_style": "",
            "children": [
              "IPY_MODEL_7a740c29989b4d2d872240dae965629e",
              "IPY_MODEL_2be8e3732698411899d1352945e79f33",
              "IPY_MODEL_1c76db58284a492fb2ee86e2127d8f25"
            ],
            "layout": "IPY_MODEL_c774bcdabfdb4e7c922bdac709933862"
          }
        },
        "7a740c29989b4d2d872240dae965629e": {
          "model_module": "@jupyter-widgets/controls",
          "model_name": "HTMLModel",
          "model_module_version": "1.5.0",
          "state": {
            "_dom_classes": [],
            "_model_module": "@jupyter-widgets/controls",
            "_model_module_version": "1.5.0",
            "_model_name": "HTMLModel",
            "_view_count": null,
            "_view_module": "@jupyter-widgets/controls",
            "_view_module_version": "1.5.0",
            "_view_name": "HTMLView",
            "description": "",
            "description_tooltip": null,
            "layout": "IPY_MODEL_828df3f5f3074c52aa7ff7a3865e1e37",
            "placeholder": "​",
            "style": "IPY_MODEL_7d66ddc6724f40ef8de7949188eb0683",
            "value": "Downloading (…)solve/main/vocab.txt: 100%"
          }
        },
        "2be8e3732698411899d1352945e79f33": {
          "model_module": "@jupyter-widgets/controls",
          "model_name": "FloatProgressModel",
          "model_module_version": "1.5.0",
          "state": {
            "_dom_classes": [],
            "_model_module": "@jupyter-widgets/controls",
            "_model_module_version": "1.5.0",
            "_model_name": "FloatProgressModel",
            "_view_count": null,
            "_view_module": "@jupyter-widgets/controls",
            "_view_module_version": "1.5.0",
            "_view_name": "ProgressView",
            "bar_style": "success",
            "description": "",
            "description_tooltip": null,
            "layout": "IPY_MODEL_74fc1dd9af0947e8a195afa226180c0a",
            "max": 248477,
            "min": 0,
            "orientation": "horizontal",
            "style": "IPY_MODEL_ebe8731c348c462f847c3fb1816f1eb7",
            "value": 248477
          }
        },
        "1c76db58284a492fb2ee86e2127d8f25": {
          "model_module": "@jupyter-widgets/controls",
          "model_name": "HTMLModel",
          "model_module_version": "1.5.0",
          "state": {
            "_dom_classes": [],
            "_model_module": "@jupyter-widgets/controls",
            "_model_module_version": "1.5.0",
            "_model_name": "HTMLModel",
            "_view_count": null,
            "_view_module": "@jupyter-widgets/controls",
            "_view_module_version": "1.5.0",
            "_view_name": "HTMLView",
            "description": "",
            "description_tooltip": null,
            "layout": "IPY_MODEL_eec82acb41f34ea99477c61803de04d8",
            "placeholder": "​",
            "style": "IPY_MODEL_6963e8c7e11c4701bb28ab85512d2507",
            "value": " 248k/248k [00:00&lt;00:00, 2.43MB/s]"
          }
        },
        "c774bcdabfdb4e7c922bdac709933862": {
          "model_module": "@jupyter-widgets/base",
          "model_name": "LayoutModel",
          "model_module_version": "1.2.0",
          "state": {
            "_model_module": "@jupyter-widgets/base",
            "_model_module_version": "1.2.0",
            "_model_name": "LayoutModel",
            "_view_count": null,
            "_view_module": "@jupyter-widgets/base",
            "_view_module_version": "1.2.0",
            "_view_name": "LayoutView",
            "align_content": null,
            "align_items": null,
            "align_self": null,
            "border": null,
            "bottom": null,
            "display": null,
            "flex": null,
            "flex_flow": null,
            "grid_area": null,
            "grid_auto_columns": null,
            "grid_auto_flow": null,
            "grid_auto_rows": null,
            "grid_column": null,
            "grid_gap": null,
            "grid_row": null,
            "grid_template_areas": null,
            "grid_template_columns": null,
            "grid_template_rows": null,
            "height": null,
            "justify_content": null,
            "justify_items": null,
            "left": null,
            "margin": null,
            "max_height": null,
            "max_width": null,
            "min_height": null,
            "min_width": null,
            "object_fit": null,
            "object_position": null,
            "order": null,
            "overflow": null,
            "overflow_x": null,
            "overflow_y": null,
            "padding": null,
            "right": null,
            "top": null,
            "visibility": null,
            "width": null
          }
        },
        "828df3f5f3074c52aa7ff7a3865e1e37": {
          "model_module": "@jupyter-widgets/base",
          "model_name": "LayoutModel",
          "model_module_version": "1.2.0",
          "state": {
            "_model_module": "@jupyter-widgets/base",
            "_model_module_version": "1.2.0",
            "_model_name": "LayoutModel",
            "_view_count": null,
            "_view_module": "@jupyter-widgets/base",
            "_view_module_version": "1.2.0",
            "_view_name": "LayoutView",
            "align_content": null,
            "align_items": null,
            "align_self": null,
            "border": null,
            "bottom": null,
            "display": null,
            "flex": null,
            "flex_flow": null,
            "grid_area": null,
            "grid_auto_columns": null,
            "grid_auto_flow": null,
            "grid_auto_rows": null,
            "grid_column": null,
            "grid_gap": null,
            "grid_row": null,
            "grid_template_areas": null,
            "grid_template_columns": null,
            "grid_template_rows": null,
            "height": null,
            "justify_content": null,
            "justify_items": null,
            "left": null,
            "margin": null,
            "max_height": null,
            "max_width": null,
            "min_height": null,
            "min_width": null,
            "object_fit": null,
            "object_position": null,
            "order": null,
            "overflow": null,
            "overflow_x": null,
            "overflow_y": null,
            "padding": null,
            "right": null,
            "top": null,
            "visibility": null,
            "width": null
          }
        },
        "7d66ddc6724f40ef8de7949188eb0683": {
          "model_module": "@jupyter-widgets/controls",
          "model_name": "DescriptionStyleModel",
          "model_module_version": "1.5.0",
          "state": {
            "_model_module": "@jupyter-widgets/controls",
            "_model_module_version": "1.5.0",
            "_model_name": "DescriptionStyleModel",
            "_view_count": null,
            "_view_module": "@jupyter-widgets/base",
            "_view_module_version": "1.2.0",
            "_view_name": "StyleView",
            "description_width": ""
          }
        },
        "74fc1dd9af0947e8a195afa226180c0a": {
          "model_module": "@jupyter-widgets/base",
          "model_name": "LayoutModel",
          "model_module_version": "1.2.0",
          "state": {
            "_model_module": "@jupyter-widgets/base",
            "_model_module_version": "1.2.0",
            "_model_name": "LayoutModel",
            "_view_count": null,
            "_view_module": "@jupyter-widgets/base",
            "_view_module_version": "1.2.0",
            "_view_name": "LayoutView",
            "align_content": null,
            "align_items": null,
            "align_self": null,
            "border": null,
            "bottom": null,
            "display": null,
            "flex": null,
            "flex_flow": null,
            "grid_area": null,
            "grid_auto_columns": null,
            "grid_auto_flow": null,
            "grid_auto_rows": null,
            "grid_column": null,
            "grid_gap": null,
            "grid_row": null,
            "grid_template_areas": null,
            "grid_template_columns": null,
            "grid_template_rows": null,
            "height": null,
            "justify_content": null,
            "justify_items": null,
            "left": null,
            "margin": null,
            "max_height": null,
            "max_width": null,
            "min_height": null,
            "min_width": null,
            "object_fit": null,
            "object_position": null,
            "order": null,
            "overflow": null,
            "overflow_x": null,
            "overflow_y": null,
            "padding": null,
            "right": null,
            "top": null,
            "visibility": null,
            "width": null
          }
        },
        "ebe8731c348c462f847c3fb1816f1eb7": {
          "model_module": "@jupyter-widgets/controls",
          "model_name": "ProgressStyleModel",
          "model_module_version": "1.5.0",
          "state": {
            "_model_module": "@jupyter-widgets/controls",
            "_model_module_version": "1.5.0",
            "_model_name": "ProgressStyleModel",
            "_view_count": null,
            "_view_module": "@jupyter-widgets/base",
            "_view_module_version": "1.2.0",
            "_view_name": "StyleView",
            "bar_color": null,
            "description_width": ""
          }
        },
        "eec82acb41f34ea99477c61803de04d8": {
          "model_module": "@jupyter-widgets/base",
          "model_name": "LayoutModel",
          "model_module_version": "1.2.0",
          "state": {
            "_model_module": "@jupyter-widgets/base",
            "_model_module_version": "1.2.0",
            "_model_name": "LayoutModel",
            "_view_count": null,
            "_view_module": "@jupyter-widgets/base",
            "_view_module_version": "1.2.0",
            "_view_name": "LayoutView",
            "align_content": null,
            "align_items": null,
            "align_self": null,
            "border": null,
            "bottom": null,
            "display": null,
            "flex": null,
            "flex_flow": null,
            "grid_area": null,
            "grid_auto_columns": null,
            "grid_auto_flow": null,
            "grid_auto_rows": null,
            "grid_column": null,
            "grid_gap": null,
            "grid_row": null,
            "grid_template_areas": null,
            "grid_template_columns": null,
            "grid_template_rows": null,
            "height": null,
            "justify_content": null,
            "justify_items": null,
            "left": null,
            "margin": null,
            "max_height": null,
            "max_width": null,
            "min_height": null,
            "min_width": null,
            "object_fit": null,
            "object_position": null,
            "order": null,
            "overflow": null,
            "overflow_x": null,
            "overflow_y": null,
            "padding": null,
            "right": null,
            "top": null,
            "visibility": null,
            "width": null
          }
        },
        "6963e8c7e11c4701bb28ab85512d2507": {
          "model_module": "@jupyter-widgets/controls",
          "model_name": "DescriptionStyleModel",
          "model_module_version": "1.5.0",
          "state": {
            "_model_module": "@jupyter-widgets/controls",
            "_model_module_version": "1.5.0",
            "_model_name": "DescriptionStyleModel",
            "_view_count": null,
            "_view_module": "@jupyter-widgets/base",
            "_view_module_version": "1.2.0",
            "_view_name": "StyleView",
            "description_width": ""
          }
        },
        "68692f3bfdad4cd2b0166bd4df0bfb05": {
          "model_module": "@jupyter-widgets/controls",
          "model_name": "HBoxModel",
          "model_module_version": "1.5.0",
          "state": {
            "_dom_classes": [],
            "_model_module": "@jupyter-widgets/controls",
            "_model_module_version": "1.5.0",
            "_model_name": "HBoxModel",
            "_view_count": null,
            "_view_module": "@jupyter-widgets/controls",
            "_view_module_version": "1.5.0",
            "_view_name": "HBoxView",
            "box_style": "",
            "children": [
              "IPY_MODEL_5395795bc35945d2bd510e099cbfedab",
              "IPY_MODEL_fc114cabb88049bba568d0b3a665ade0",
              "IPY_MODEL_72ab0e9c100d466e90c9a9897a7655f0"
            ],
            "layout": "IPY_MODEL_a39d6a3db0c84fccb18cf587d5ae6fdd"
          }
        },
        "5395795bc35945d2bd510e099cbfedab": {
          "model_module": "@jupyter-widgets/controls",
          "model_name": "HTMLModel",
          "model_module_version": "1.5.0",
          "state": {
            "_dom_classes": [],
            "_model_module": "@jupyter-widgets/controls",
            "_model_module_version": "1.5.0",
            "_model_name": "HTMLModel",
            "_view_count": null,
            "_view_module": "@jupyter-widgets/controls",
            "_view_module_version": "1.5.0",
            "_view_name": "HTMLView",
            "description": "",
            "description_tooltip": null,
            "layout": "IPY_MODEL_e867093b00bc4fe89f921dd12f5febed",
            "placeholder": "​",
            "style": "IPY_MODEL_1d446d42ce334973b48d27ad3f0589bc",
            "value": "Downloading (…)cial_tokens_map.json: 100%"
          }
        },
        "fc114cabb88049bba568d0b3a665ade0": {
          "model_module": "@jupyter-widgets/controls",
          "model_name": "FloatProgressModel",
          "model_module_version": "1.5.0",
          "state": {
            "_dom_classes": [],
            "_model_module": "@jupyter-widgets/controls",
            "_model_module_version": "1.5.0",
            "_model_name": "FloatProgressModel",
            "_view_count": null,
            "_view_module": "@jupyter-widgets/controls",
            "_view_module_version": "1.5.0",
            "_view_name": "ProgressView",
            "bar_style": "success",
            "description": "",
            "description_tooltip": null,
            "layout": "IPY_MODEL_f4451a5597e7469098ad6121a1323895",
            "max": 125,
            "min": 0,
            "orientation": "horizontal",
            "style": "IPY_MODEL_aa42d122446d494e9e044cb425f6ef21",
            "value": 125
          }
        },
        "72ab0e9c100d466e90c9a9897a7655f0": {
          "model_module": "@jupyter-widgets/controls",
          "model_name": "HTMLModel",
          "model_module_version": "1.5.0",
          "state": {
            "_dom_classes": [],
            "_model_module": "@jupyter-widgets/controls",
            "_model_module_version": "1.5.0",
            "_model_name": "HTMLModel",
            "_view_count": null,
            "_view_module": "@jupyter-widgets/controls",
            "_view_module_version": "1.5.0",
            "_view_name": "HTMLView",
            "description": "",
            "description_tooltip": null,
            "layout": "IPY_MODEL_1360656a49e145dc934a270994d1ea9d",
            "placeholder": "​",
            "style": "IPY_MODEL_ef851d3b08e14ec8bccb1c49baa11538",
            "value": " 125/125 [00:00&lt;00:00, 3.12kB/s]"
          }
        },
        "a39d6a3db0c84fccb18cf587d5ae6fdd": {
          "model_module": "@jupyter-widgets/base",
          "model_name": "LayoutModel",
          "model_module_version": "1.2.0",
          "state": {
            "_model_module": "@jupyter-widgets/base",
            "_model_module_version": "1.2.0",
            "_model_name": "LayoutModel",
            "_view_count": null,
            "_view_module": "@jupyter-widgets/base",
            "_view_module_version": "1.2.0",
            "_view_name": "LayoutView",
            "align_content": null,
            "align_items": null,
            "align_self": null,
            "border": null,
            "bottom": null,
            "display": null,
            "flex": null,
            "flex_flow": null,
            "grid_area": null,
            "grid_auto_columns": null,
            "grid_auto_flow": null,
            "grid_auto_rows": null,
            "grid_column": null,
            "grid_gap": null,
            "grid_row": null,
            "grid_template_areas": null,
            "grid_template_columns": null,
            "grid_template_rows": null,
            "height": null,
            "justify_content": null,
            "justify_items": null,
            "left": null,
            "margin": null,
            "max_height": null,
            "max_width": null,
            "min_height": null,
            "min_width": null,
            "object_fit": null,
            "object_position": null,
            "order": null,
            "overflow": null,
            "overflow_x": null,
            "overflow_y": null,
            "padding": null,
            "right": null,
            "top": null,
            "visibility": null,
            "width": null
          }
        },
        "e867093b00bc4fe89f921dd12f5febed": {
          "model_module": "@jupyter-widgets/base",
          "model_name": "LayoutModel",
          "model_module_version": "1.2.0",
          "state": {
            "_model_module": "@jupyter-widgets/base",
            "_model_module_version": "1.2.0",
            "_model_name": "LayoutModel",
            "_view_count": null,
            "_view_module": "@jupyter-widgets/base",
            "_view_module_version": "1.2.0",
            "_view_name": "LayoutView",
            "align_content": null,
            "align_items": null,
            "align_self": null,
            "border": null,
            "bottom": null,
            "display": null,
            "flex": null,
            "flex_flow": null,
            "grid_area": null,
            "grid_auto_columns": null,
            "grid_auto_flow": null,
            "grid_auto_rows": null,
            "grid_column": null,
            "grid_gap": null,
            "grid_row": null,
            "grid_template_areas": null,
            "grid_template_columns": null,
            "grid_template_rows": null,
            "height": null,
            "justify_content": null,
            "justify_items": null,
            "left": null,
            "margin": null,
            "max_height": null,
            "max_width": null,
            "min_height": null,
            "min_width": null,
            "object_fit": null,
            "object_position": null,
            "order": null,
            "overflow": null,
            "overflow_x": null,
            "overflow_y": null,
            "padding": null,
            "right": null,
            "top": null,
            "visibility": null,
            "width": null
          }
        },
        "1d446d42ce334973b48d27ad3f0589bc": {
          "model_module": "@jupyter-widgets/controls",
          "model_name": "DescriptionStyleModel",
          "model_module_version": "1.5.0",
          "state": {
            "_model_module": "@jupyter-widgets/controls",
            "_model_module_version": "1.5.0",
            "_model_name": "DescriptionStyleModel",
            "_view_count": null,
            "_view_module": "@jupyter-widgets/base",
            "_view_module_version": "1.2.0",
            "_view_name": "StyleView",
            "description_width": ""
          }
        },
        "f4451a5597e7469098ad6121a1323895": {
          "model_module": "@jupyter-widgets/base",
          "model_name": "LayoutModel",
          "model_module_version": "1.2.0",
          "state": {
            "_model_module": "@jupyter-widgets/base",
            "_model_module_version": "1.2.0",
            "_model_name": "LayoutModel",
            "_view_count": null,
            "_view_module": "@jupyter-widgets/base",
            "_view_module_version": "1.2.0",
            "_view_name": "LayoutView",
            "align_content": null,
            "align_items": null,
            "align_self": null,
            "border": null,
            "bottom": null,
            "display": null,
            "flex": null,
            "flex_flow": null,
            "grid_area": null,
            "grid_auto_columns": null,
            "grid_auto_flow": null,
            "grid_auto_rows": null,
            "grid_column": null,
            "grid_gap": null,
            "grid_row": null,
            "grid_template_areas": null,
            "grid_template_columns": null,
            "grid_template_rows": null,
            "height": null,
            "justify_content": null,
            "justify_items": null,
            "left": null,
            "margin": null,
            "max_height": null,
            "max_width": null,
            "min_height": null,
            "min_width": null,
            "object_fit": null,
            "object_position": null,
            "order": null,
            "overflow": null,
            "overflow_x": null,
            "overflow_y": null,
            "padding": null,
            "right": null,
            "top": null,
            "visibility": null,
            "width": null
          }
        },
        "aa42d122446d494e9e044cb425f6ef21": {
          "model_module": "@jupyter-widgets/controls",
          "model_name": "ProgressStyleModel",
          "model_module_version": "1.5.0",
          "state": {
            "_model_module": "@jupyter-widgets/controls",
            "_model_module_version": "1.5.0",
            "_model_name": "ProgressStyleModel",
            "_view_count": null,
            "_view_module": "@jupyter-widgets/base",
            "_view_module_version": "1.2.0",
            "_view_name": "StyleView",
            "bar_color": null,
            "description_width": ""
          }
        },
        "1360656a49e145dc934a270994d1ea9d": {
          "model_module": "@jupyter-widgets/base",
          "model_name": "LayoutModel",
          "model_module_version": "1.2.0",
          "state": {
            "_model_module": "@jupyter-widgets/base",
            "_model_module_version": "1.2.0",
            "_model_name": "LayoutModel",
            "_view_count": null,
            "_view_module": "@jupyter-widgets/base",
            "_view_module_version": "1.2.0",
            "_view_name": "LayoutView",
            "align_content": null,
            "align_items": null,
            "align_self": null,
            "border": null,
            "bottom": null,
            "display": null,
            "flex": null,
            "flex_flow": null,
            "grid_area": null,
            "grid_auto_columns": null,
            "grid_auto_flow": null,
            "grid_auto_rows": null,
            "grid_column": null,
            "grid_gap": null,
            "grid_row": null,
            "grid_template_areas": null,
            "grid_template_columns": null,
            "grid_template_rows": null,
            "height": null,
            "justify_content": null,
            "justify_items": null,
            "left": null,
            "margin": null,
            "max_height": null,
            "max_width": null,
            "min_height": null,
            "min_width": null,
            "object_fit": null,
            "object_position": null,
            "order": null,
            "overflow": null,
            "overflow_x": null,
            "overflow_y": null,
            "padding": null,
            "right": null,
            "top": null,
            "visibility": null,
            "width": null
          }
        },
        "ef851d3b08e14ec8bccb1c49baa11538": {
          "model_module": "@jupyter-widgets/controls",
          "model_name": "DescriptionStyleModel",
          "model_module_version": "1.5.0",
          "state": {
            "_model_module": "@jupyter-widgets/controls",
            "_model_module_version": "1.5.0",
            "_model_name": "DescriptionStyleModel",
            "_view_count": null,
            "_view_module": "@jupyter-widgets/base",
            "_view_module_version": "1.2.0",
            "_view_name": "StyleView",
            "description_width": ""
          }
        },
        "65d07683a9444ebcb01c68918a6752c1": {
          "model_module": "@jupyter-widgets/controls",
          "model_name": "HBoxModel",
          "model_module_version": "1.5.0",
          "state": {
            "_dom_classes": [],
            "_model_module": "@jupyter-widgets/controls",
            "_model_module_version": "1.5.0",
            "_model_name": "HBoxModel",
            "_view_count": null,
            "_view_module": "@jupyter-widgets/controls",
            "_view_module_version": "1.5.0",
            "_view_name": "HBoxView",
            "box_style": "",
            "children": [
              "IPY_MODEL_cdf7d517f1b24a3f9bfd6bc7bd7db052",
              "IPY_MODEL_1cfa47c5cf2b45be84a24eacdb5364f2",
              "IPY_MODEL_c76b37283957454ba62930af767788f4"
            ],
            "layout": "IPY_MODEL_e16efc94dc424f43bbfe8babd42cc51d"
          }
        },
        "cdf7d517f1b24a3f9bfd6bc7bd7db052": {
          "model_module": "@jupyter-widgets/controls",
          "model_name": "HTMLModel",
          "model_module_version": "1.5.0",
          "state": {
            "_dom_classes": [],
            "_model_module": "@jupyter-widgets/controls",
            "_model_module_version": "1.5.0",
            "_model_name": "HTMLModel",
            "_view_count": null,
            "_view_module": "@jupyter-widgets/controls",
            "_view_module_version": "1.5.0",
            "_view_name": "HTMLView",
            "description": "",
            "description_tooltip": null,
            "layout": "IPY_MODEL_9d2a1d6344644e589ad904bea949e11f",
            "placeholder": "​",
            "style": "IPY_MODEL_1ec8a1220e90464aaab14700bc73338c",
            "value": "Downloading (…)okenizer_config.json: 100%"
          }
        },
        "1cfa47c5cf2b45be84a24eacdb5364f2": {
          "model_module": "@jupyter-widgets/controls",
          "model_name": "FloatProgressModel",
          "model_module_version": "1.5.0",
          "state": {
            "_dom_classes": [],
            "_model_module": "@jupyter-widgets/controls",
            "_model_module_version": "1.5.0",
            "_model_name": "FloatProgressModel",
            "_view_count": null,
            "_view_module": "@jupyter-widgets/controls",
            "_view_module_version": "1.5.0",
            "_view_name": "ProgressView",
            "bar_style": "success",
            "description": "",
            "description_tooltip": null,
            "layout": "IPY_MODEL_7784894c38b34930bef135311c08b509",
            "max": 289,
            "min": 0,
            "orientation": "horizontal",
            "style": "IPY_MODEL_56a0be286cda411c83c1e780545fba09",
            "value": 289
          }
        },
        "c76b37283957454ba62930af767788f4": {
          "model_module": "@jupyter-widgets/controls",
          "model_name": "HTMLModel",
          "model_module_version": "1.5.0",
          "state": {
            "_dom_classes": [],
            "_model_module": "@jupyter-widgets/controls",
            "_model_module_version": "1.5.0",
            "_model_name": "HTMLModel",
            "_view_count": null,
            "_view_module": "@jupyter-widgets/controls",
            "_view_module_version": "1.5.0",
            "_view_name": "HTMLView",
            "description": "",
            "description_tooltip": null,
            "layout": "IPY_MODEL_01dcf3b5ce224761ab1b7497d1d65a35",
            "placeholder": "​",
            "style": "IPY_MODEL_5c56e2fdd7ba45299980733d7c06562c",
            "value": " 289/289 [00:00&lt;00:00, 5.38kB/s]"
          }
        },
        "e16efc94dc424f43bbfe8babd42cc51d": {
          "model_module": "@jupyter-widgets/base",
          "model_name": "LayoutModel",
          "model_module_version": "1.2.0",
          "state": {
            "_model_module": "@jupyter-widgets/base",
            "_model_module_version": "1.2.0",
            "_model_name": "LayoutModel",
            "_view_count": null,
            "_view_module": "@jupyter-widgets/base",
            "_view_module_version": "1.2.0",
            "_view_name": "LayoutView",
            "align_content": null,
            "align_items": null,
            "align_self": null,
            "border": null,
            "bottom": null,
            "display": null,
            "flex": null,
            "flex_flow": null,
            "grid_area": null,
            "grid_auto_columns": null,
            "grid_auto_flow": null,
            "grid_auto_rows": null,
            "grid_column": null,
            "grid_gap": null,
            "grid_row": null,
            "grid_template_areas": null,
            "grid_template_columns": null,
            "grid_template_rows": null,
            "height": null,
            "justify_content": null,
            "justify_items": null,
            "left": null,
            "margin": null,
            "max_height": null,
            "max_width": null,
            "min_height": null,
            "min_width": null,
            "object_fit": null,
            "object_position": null,
            "order": null,
            "overflow": null,
            "overflow_x": null,
            "overflow_y": null,
            "padding": null,
            "right": null,
            "top": null,
            "visibility": null,
            "width": null
          }
        },
        "9d2a1d6344644e589ad904bea949e11f": {
          "model_module": "@jupyter-widgets/base",
          "model_name": "LayoutModel",
          "model_module_version": "1.2.0",
          "state": {
            "_model_module": "@jupyter-widgets/base",
            "_model_module_version": "1.2.0",
            "_model_name": "LayoutModel",
            "_view_count": null,
            "_view_module": "@jupyter-widgets/base",
            "_view_module_version": "1.2.0",
            "_view_name": "LayoutView",
            "align_content": null,
            "align_items": null,
            "align_self": null,
            "border": null,
            "bottom": null,
            "display": null,
            "flex": null,
            "flex_flow": null,
            "grid_area": null,
            "grid_auto_columns": null,
            "grid_auto_flow": null,
            "grid_auto_rows": null,
            "grid_column": null,
            "grid_gap": null,
            "grid_row": null,
            "grid_template_areas": null,
            "grid_template_columns": null,
            "grid_template_rows": null,
            "height": null,
            "justify_content": null,
            "justify_items": null,
            "left": null,
            "margin": null,
            "max_height": null,
            "max_width": null,
            "min_height": null,
            "min_width": null,
            "object_fit": null,
            "object_position": null,
            "order": null,
            "overflow": null,
            "overflow_x": null,
            "overflow_y": null,
            "padding": null,
            "right": null,
            "top": null,
            "visibility": null,
            "width": null
          }
        },
        "1ec8a1220e90464aaab14700bc73338c": {
          "model_module": "@jupyter-widgets/controls",
          "model_name": "DescriptionStyleModel",
          "model_module_version": "1.5.0",
          "state": {
            "_model_module": "@jupyter-widgets/controls",
            "_model_module_version": "1.5.0",
            "_model_name": "DescriptionStyleModel",
            "_view_count": null,
            "_view_module": "@jupyter-widgets/base",
            "_view_module_version": "1.2.0",
            "_view_name": "StyleView",
            "description_width": ""
          }
        },
        "7784894c38b34930bef135311c08b509": {
          "model_module": "@jupyter-widgets/base",
          "model_name": "LayoutModel",
          "model_module_version": "1.2.0",
          "state": {
            "_model_module": "@jupyter-widgets/base",
            "_model_module_version": "1.2.0",
            "_model_name": "LayoutModel",
            "_view_count": null,
            "_view_module": "@jupyter-widgets/base",
            "_view_module_version": "1.2.0",
            "_view_name": "LayoutView",
            "align_content": null,
            "align_items": null,
            "align_self": null,
            "border": null,
            "bottom": null,
            "display": null,
            "flex": null,
            "flex_flow": null,
            "grid_area": null,
            "grid_auto_columns": null,
            "grid_auto_flow": null,
            "grid_auto_rows": null,
            "grid_column": null,
            "grid_gap": null,
            "grid_row": null,
            "grid_template_areas": null,
            "grid_template_columns": null,
            "grid_template_rows": null,
            "height": null,
            "justify_content": null,
            "justify_items": null,
            "left": null,
            "margin": null,
            "max_height": null,
            "max_width": null,
            "min_height": null,
            "min_width": null,
            "object_fit": null,
            "object_position": null,
            "order": null,
            "overflow": null,
            "overflow_x": null,
            "overflow_y": null,
            "padding": null,
            "right": null,
            "top": null,
            "visibility": null,
            "width": null
          }
        },
        "56a0be286cda411c83c1e780545fba09": {
          "model_module": "@jupyter-widgets/controls",
          "model_name": "ProgressStyleModel",
          "model_module_version": "1.5.0",
          "state": {
            "_model_module": "@jupyter-widgets/controls",
            "_model_module_version": "1.5.0",
            "_model_name": "ProgressStyleModel",
            "_view_count": null,
            "_view_module": "@jupyter-widgets/base",
            "_view_module_version": "1.2.0",
            "_view_name": "StyleView",
            "bar_color": null,
            "description_width": ""
          }
        },
        "01dcf3b5ce224761ab1b7497d1d65a35": {
          "model_module": "@jupyter-widgets/base",
          "model_name": "LayoutModel",
          "model_module_version": "1.2.0",
          "state": {
            "_model_module": "@jupyter-widgets/base",
            "_model_module_version": "1.2.0",
            "_model_name": "LayoutModel",
            "_view_count": null,
            "_view_module": "@jupyter-widgets/base",
            "_view_module_version": "1.2.0",
            "_view_name": "LayoutView",
            "align_content": null,
            "align_items": null,
            "align_self": null,
            "border": null,
            "bottom": null,
            "display": null,
            "flex": null,
            "flex_flow": null,
            "grid_area": null,
            "grid_auto_columns": null,
            "grid_auto_flow": null,
            "grid_auto_rows": null,
            "grid_column": null,
            "grid_gap": null,
            "grid_row": null,
            "grid_template_areas": null,
            "grid_template_columns": null,
            "grid_template_rows": null,
            "height": null,
            "justify_content": null,
            "justify_items": null,
            "left": null,
            "margin": null,
            "max_height": null,
            "max_width": null,
            "min_height": null,
            "min_width": null,
            "object_fit": null,
            "object_position": null,
            "order": null,
            "overflow": null,
            "overflow_x": null,
            "overflow_y": null,
            "padding": null,
            "right": null,
            "top": null,
            "visibility": null,
            "width": null
          }
        },
        "5c56e2fdd7ba45299980733d7c06562c": {
          "model_module": "@jupyter-widgets/controls",
          "model_name": "DescriptionStyleModel",
          "model_module_version": "1.5.0",
          "state": {
            "_model_module": "@jupyter-widgets/controls",
            "_model_module_version": "1.5.0",
            "_model_name": "DescriptionStyleModel",
            "_view_count": null,
            "_view_module": "@jupyter-widgets/base",
            "_view_module_version": "1.2.0",
            "_view_name": "StyleView",
            "description_width": ""
          }
        },
        "6f905d91f3c347278877f2783f26e423": {
          "model_module": "@jupyter-widgets/controls",
          "model_name": "HBoxModel",
          "model_module_version": "1.5.0",
          "state": {
            "_dom_classes": [],
            "_model_module": "@jupyter-widgets/controls",
            "_model_module_version": "1.5.0",
            "_model_name": "HBoxModel",
            "_view_count": null,
            "_view_module": "@jupyter-widgets/controls",
            "_view_module_version": "1.5.0",
            "_view_name": "HBoxView",
            "box_style": "",
            "children": [
              "IPY_MODEL_531d5149004a4e42b9631541741faad5",
              "IPY_MODEL_8821904489d343778390fb32d6d1cc73",
              "IPY_MODEL_157de6219918474f81fe7e28f646670c"
            ],
            "layout": "IPY_MODEL_df2bb16856c94132bb09b174de555a92"
          }
        },
        "531d5149004a4e42b9631541741faad5": {
          "model_module": "@jupyter-widgets/controls",
          "model_name": "HTMLModel",
          "model_module_version": "1.5.0",
          "state": {
            "_dom_classes": [],
            "_model_module": "@jupyter-widgets/controls",
            "_model_module_version": "1.5.0",
            "_model_name": "HTMLModel",
            "_view_count": null,
            "_view_module": "@jupyter-widgets/controls",
            "_view_module_version": "1.5.0",
            "_view_name": "HTMLView",
            "description": "",
            "description_tooltip": null,
            "layout": "IPY_MODEL_c5b5536340d84af99115953c25f76a5b",
            "placeholder": "​",
            "style": "IPY_MODEL_75e7d47899d641dbb76f82a9c1dcd2c0",
            "value": "Downloading (…)lve/main/config.json: 100%"
          }
        },
        "8821904489d343778390fb32d6d1cc73": {
          "model_module": "@jupyter-widgets/controls",
          "model_name": "FloatProgressModel",
          "model_module_version": "1.5.0",
          "state": {
            "_dom_classes": [],
            "_model_module": "@jupyter-widgets/controls",
            "_model_module_version": "1.5.0",
            "_model_name": "FloatProgressModel",
            "_view_count": null,
            "_view_module": "@jupyter-widgets/controls",
            "_view_module_version": "1.5.0",
            "_view_name": "ProgressView",
            "bar_style": "success",
            "description": "",
            "description_tooltip": null,
            "layout": "IPY_MODEL_370097c93b2f4826a1b5c1496b0095da",
            "max": 425,
            "min": 0,
            "orientation": "horizontal",
            "style": "IPY_MODEL_6ee9e4c5ecd24af788e68635f09c1c72",
            "value": 425
          }
        },
        "157de6219918474f81fe7e28f646670c": {
          "model_module": "@jupyter-widgets/controls",
          "model_name": "HTMLModel",
          "model_module_version": "1.5.0",
          "state": {
            "_dom_classes": [],
            "_model_module": "@jupyter-widgets/controls",
            "_model_module_version": "1.5.0",
            "_model_name": "HTMLModel",
            "_view_count": null,
            "_view_module": "@jupyter-widgets/controls",
            "_view_module_version": "1.5.0",
            "_view_name": "HTMLView",
            "description": "",
            "description_tooltip": null,
            "layout": "IPY_MODEL_5f79c2b06d21446f865dc4a3c1280484",
            "placeholder": "​",
            "style": "IPY_MODEL_1e45d60ed47c4f868516969112573bb7",
            "value": " 425/425 [00:00&lt;00:00, 4.46kB/s]"
          }
        },
        "df2bb16856c94132bb09b174de555a92": {
          "model_module": "@jupyter-widgets/base",
          "model_name": "LayoutModel",
          "model_module_version": "1.2.0",
          "state": {
            "_model_module": "@jupyter-widgets/base",
            "_model_module_version": "1.2.0",
            "_model_name": "LayoutModel",
            "_view_count": null,
            "_view_module": "@jupyter-widgets/base",
            "_view_module_version": "1.2.0",
            "_view_name": "LayoutView",
            "align_content": null,
            "align_items": null,
            "align_self": null,
            "border": null,
            "bottom": null,
            "display": null,
            "flex": null,
            "flex_flow": null,
            "grid_area": null,
            "grid_auto_columns": null,
            "grid_auto_flow": null,
            "grid_auto_rows": null,
            "grid_column": null,
            "grid_gap": null,
            "grid_row": null,
            "grid_template_areas": null,
            "grid_template_columns": null,
            "grid_template_rows": null,
            "height": null,
            "justify_content": null,
            "justify_items": null,
            "left": null,
            "margin": null,
            "max_height": null,
            "max_width": null,
            "min_height": null,
            "min_width": null,
            "object_fit": null,
            "object_position": null,
            "order": null,
            "overflow": null,
            "overflow_x": null,
            "overflow_y": null,
            "padding": null,
            "right": null,
            "top": null,
            "visibility": null,
            "width": null
          }
        },
        "c5b5536340d84af99115953c25f76a5b": {
          "model_module": "@jupyter-widgets/base",
          "model_name": "LayoutModel",
          "model_module_version": "1.2.0",
          "state": {
            "_model_module": "@jupyter-widgets/base",
            "_model_module_version": "1.2.0",
            "_model_name": "LayoutModel",
            "_view_count": null,
            "_view_module": "@jupyter-widgets/base",
            "_view_module_version": "1.2.0",
            "_view_name": "LayoutView",
            "align_content": null,
            "align_items": null,
            "align_self": null,
            "border": null,
            "bottom": null,
            "display": null,
            "flex": null,
            "flex_flow": null,
            "grid_area": null,
            "grid_auto_columns": null,
            "grid_auto_flow": null,
            "grid_auto_rows": null,
            "grid_column": null,
            "grid_gap": null,
            "grid_row": null,
            "grid_template_areas": null,
            "grid_template_columns": null,
            "grid_template_rows": null,
            "height": null,
            "justify_content": null,
            "justify_items": null,
            "left": null,
            "margin": null,
            "max_height": null,
            "max_width": null,
            "min_height": null,
            "min_width": null,
            "object_fit": null,
            "object_position": null,
            "order": null,
            "overflow": null,
            "overflow_x": null,
            "overflow_y": null,
            "padding": null,
            "right": null,
            "top": null,
            "visibility": null,
            "width": null
          }
        },
        "75e7d47899d641dbb76f82a9c1dcd2c0": {
          "model_module": "@jupyter-widgets/controls",
          "model_name": "DescriptionStyleModel",
          "model_module_version": "1.5.0",
          "state": {
            "_model_module": "@jupyter-widgets/controls",
            "_model_module_version": "1.5.0",
            "_model_name": "DescriptionStyleModel",
            "_view_count": null,
            "_view_module": "@jupyter-widgets/base",
            "_view_module_version": "1.2.0",
            "_view_name": "StyleView",
            "description_width": ""
          }
        },
        "370097c93b2f4826a1b5c1496b0095da": {
          "model_module": "@jupyter-widgets/base",
          "model_name": "LayoutModel",
          "model_module_version": "1.2.0",
          "state": {
            "_model_module": "@jupyter-widgets/base",
            "_model_module_version": "1.2.0",
            "_model_name": "LayoutModel",
            "_view_count": null,
            "_view_module": "@jupyter-widgets/base",
            "_view_module_version": "1.2.0",
            "_view_name": "LayoutView",
            "align_content": null,
            "align_items": null,
            "align_self": null,
            "border": null,
            "bottom": null,
            "display": null,
            "flex": null,
            "flex_flow": null,
            "grid_area": null,
            "grid_auto_columns": null,
            "grid_auto_flow": null,
            "grid_auto_rows": null,
            "grid_column": null,
            "grid_gap": null,
            "grid_row": null,
            "grid_template_areas": null,
            "grid_template_columns": null,
            "grid_template_rows": null,
            "height": null,
            "justify_content": null,
            "justify_items": null,
            "left": null,
            "margin": null,
            "max_height": null,
            "max_width": null,
            "min_height": null,
            "min_width": null,
            "object_fit": null,
            "object_position": null,
            "order": null,
            "overflow": null,
            "overflow_x": null,
            "overflow_y": null,
            "padding": null,
            "right": null,
            "top": null,
            "visibility": null,
            "width": null
          }
        },
        "6ee9e4c5ecd24af788e68635f09c1c72": {
          "model_module": "@jupyter-widgets/controls",
          "model_name": "ProgressStyleModel",
          "model_module_version": "1.5.0",
          "state": {
            "_model_module": "@jupyter-widgets/controls",
            "_model_module_version": "1.5.0",
            "_model_name": "ProgressStyleModel",
            "_view_count": null,
            "_view_module": "@jupyter-widgets/base",
            "_view_module_version": "1.2.0",
            "_view_name": "StyleView",
            "bar_color": null,
            "description_width": ""
          }
        },
        "5f79c2b06d21446f865dc4a3c1280484": {
          "model_module": "@jupyter-widgets/base",
          "model_name": "LayoutModel",
          "model_module_version": "1.2.0",
          "state": {
            "_model_module": "@jupyter-widgets/base",
            "_model_module_version": "1.2.0",
            "_model_name": "LayoutModel",
            "_view_count": null,
            "_view_module": "@jupyter-widgets/base",
            "_view_module_version": "1.2.0",
            "_view_name": "LayoutView",
            "align_content": null,
            "align_items": null,
            "align_self": null,
            "border": null,
            "bottom": null,
            "display": null,
            "flex": null,
            "flex_flow": null,
            "grid_area": null,
            "grid_auto_columns": null,
            "grid_auto_flow": null,
            "grid_auto_rows": null,
            "grid_column": null,
            "grid_gap": null,
            "grid_row": null,
            "grid_template_areas": null,
            "grid_template_columns": null,
            "grid_template_rows": null,
            "height": null,
            "justify_content": null,
            "justify_items": null,
            "left": null,
            "margin": null,
            "max_height": null,
            "max_width": null,
            "min_height": null,
            "min_width": null,
            "object_fit": null,
            "object_position": null,
            "order": null,
            "overflow": null,
            "overflow_x": null,
            "overflow_y": null,
            "padding": null,
            "right": null,
            "top": null,
            "visibility": null,
            "width": null
          }
        },
        "1e45d60ed47c4f868516969112573bb7": {
          "model_module": "@jupyter-widgets/controls",
          "model_name": "DescriptionStyleModel",
          "model_module_version": "1.5.0",
          "state": {
            "_model_module": "@jupyter-widgets/controls",
            "_model_module_version": "1.5.0",
            "_model_name": "DescriptionStyleModel",
            "_view_count": null,
            "_view_module": "@jupyter-widgets/base",
            "_view_module_version": "1.2.0",
            "_view_name": "StyleView",
            "description_width": ""
          }
        }
      }
    }
  },
  "cells": [
    {
      "cell_type": "markdown",
      "source": [
        "##기본 설정은 TPU로 해야 합니다. TPU를 활성화한 후 진행하세요."
      ],
      "metadata": {
        "id": "wODayDT-hoG1"
      }
    },
    {
      "cell_type": "code",
      "execution_count": null,
      "metadata": {
        "colab": {
          "base_uri": "https://localhost:8080/"
        },
        "id": "JryY987nXAP5",
        "outputId": "7c647e3c-4f4f-4316-e6b4-bc7d89ca100e"
      },
      "outputs": [
        {
          "output_type": "stream",
          "name": "stdout",
          "text": [
            "Collecting transformers\n",
            "  Downloading transformers-4.32.1-py3-none-any.whl (7.5 MB)\n",
            "\u001b[2K     \u001b[90m━━━━━━━━━━━━━━━━━━━━━━━━━━━━━━━━━━━━━━━━\u001b[0m \u001b[32m7.5/7.5 MB\u001b[0m \u001b[31m15.7 MB/s\u001b[0m eta \u001b[36m0:00:00\u001b[0m\n",
            "\u001b[?25hRequirement already satisfied: filelock in /usr/local/lib/python3.10/dist-packages (from transformers) (3.12.2)\n",
            "Collecting huggingface-hub<1.0,>=0.15.1 (from transformers)\n",
            "  Downloading huggingface_hub-0.16.4-py3-none-any.whl (268 kB)\n",
            "\u001b[2K     \u001b[90m━━━━━━━━━━━━━━━━━━━━━━━━━━━━━━━━━━━━━━\u001b[0m \u001b[32m268.8/268.8 kB\u001b[0m \u001b[31m21.7 MB/s\u001b[0m eta \u001b[36m0:00:00\u001b[0m\n",
            "\u001b[?25hRequirement already satisfied: numpy>=1.17 in /usr/local/lib/python3.10/dist-packages (from transformers) (1.23.5)\n",
            "Requirement already satisfied: packaging>=20.0 in /usr/local/lib/python3.10/dist-packages (from transformers) (23.1)\n",
            "Requirement already satisfied: pyyaml>=5.1 in /usr/local/lib/python3.10/dist-packages (from transformers) (6.0.1)\n",
            "Requirement already satisfied: regex!=2019.12.17 in /usr/local/lib/python3.10/dist-packages (from transformers) (2023.6.3)\n",
            "Requirement already satisfied: requests in /usr/local/lib/python3.10/dist-packages (from transformers) (2.31.0)\n",
            "Collecting tokenizers!=0.11.3,<0.14,>=0.11.1 (from transformers)\n",
            "  Downloading tokenizers-0.13.3-cp310-cp310-manylinux_2_17_x86_64.manylinux2014_x86_64.whl (7.8 MB)\n",
            "\u001b[2K     \u001b[90m━━━━━━━━━━━━━━━━━━━━━━━━━━━━━━━━━━━━━━━━\u001b[0m \u001b[32m7.8/7.8 MB\u001b[0m \u001b[31m28.9 MB/s\u001b[0m eta \u001b[36m0:00:00\u001b[0m\n",
            "\u001b[?25hCollecting safetensors>=0.3.1 (from transformers)\n",
            "  Downloading safetensors-0.3.3-cp310-cp310-manylinux_2_17_x86_64.manylinux2014_x86_64.whl (1.3 MB)\n",
            "\u001b[2K     \u001b[90m━━━━━━━━━━━━━━━━━━━━━━━━━━━━━━━━━━━━━━━━\u001b[0m \u001b[32m1.3/1.3 MB\u001b[0m \u001b[31m26.2 MB/s\u001b[0m eta \u001b[36m0:00:00\u001b[0m\n",
            "\u001b[?25hRequirement already satisfied: tqdm>=4.27 in /usr/local/lib/python3.10/dist-packages (from transformers) (4.66.1)\n",
            "Requirement already satisfied: fsspec in /usr/local/lib/python3.10/dist-packages (from huggingface-hub<1.0,>=0.15.1->transformers) (2023.6.0)\n",
            "Requirement already satisfied: typing-extensions>=3.7.4.3 in /usr/local/lib/python3.10/dist-packages (from huggingface-hub<1.0,>=0.15.1->transformers) (4.7.1)\n",
            "Requirement already satisfied: charset-normalizer<4,>=2 in /usr/local/lib/python3.10/dist-packages (from requests->transformers) (3.2.0)\n",
            "Requirement already satisfied: idna<4,>=2.5 in /usr/local/lib/python3.10/dist-packages (from requests->transformers) (3.4)\n",
            "Requirement already satisfied: urllib3<3,>=1.21.1 in /usr/local/lib/python3.10/dist-packages (from requests->transformers) (2.0.4)\n",
            "Requirement already satisfied: certifi>=2017.4.17 in /usr/local/lib/python3.10/dist-packages (from requests->transformers) (2023.7.22)\n",
            "Installing collected packages: tokenizers, safetensors, huggingface-hub, transformers\n",
            "Successfully installed huggingface-hub-0.16.4 safetensors-0.3.3 tokenizers-0.13.3 transformers-4.32.1\n"
          ]
        }
      ],
      "source": [
        "!pip install transformers"
      ]
    },
    {
      "cell_type": "code",
      "source": [
        "!pip install seqeval"
      ],
      "metadata": {
        "colab": {
          "base_uri": "https://localhost:8080/"
        },
        "id": "gEtupUsBXQFW",
        "outputId": "f53bd426-3c96-4638-b38d-9f0e7dfd73f1"
      },
      "execution_count": null,
      "outputs": [
        {
          "output_type": "stream",
          "name": "stdout",
          "text": [
            "Collecting seqeval\n",
            "  Downloading seqeval-1.2.2.tar.gz (43 kB)\n",
            "\u001b[?25l     \u001b[90m━━━━━━━━━━━━━━━━━━━━━━━━━━━━━━━━━━━━━━━━\u001b[0m \u001b[32m0.0/43.6 kB\u001b[0m \u001b[31m?\u001b[0m eta \u001b[36m-:--:--\u001b[0m\r\u001b[2K     \u001b[90m━━━━━━━━━━━━━━━━━━━━━━━━━━━━━━━━━━━━━━━━\u001b[0m \u001b[32m43.6/43.6 kB\u001b[0m \u001b[31m1.3 MB/s\u001b[0m eta \u001b[36m0:00:00\u001b[0m\n",
            "\u001b[?25h  Preparing metadata (setup.py) ... \u001b[?25l\u001b[?25hdone\n",
            "Requirement already satisfied: numpy>=1.14.0 in /usr/local/lib/python3.10/dist-packages (from seqeval) (1.23.5)\n",
            "Requirement already satisfied: scikit-learn>=0.21.3 in /usr/local/lib/python3.10/dist-packages (from seqeval) (1.2.2)\n",
            "Requirement already satisfied: scipy>=1.3.2 in /usr/local/lib/python3.10/dist-packages (from scikit-learn>=0.21.3->seqeval) (1.10.1)\n",
            "Requirement already satisfied: joblib>=1.1.1 in /usr/local/lib/python3.10/dist-packages (from scikit-learn>=0.21.3->seqeval) (1.3.2)\n",
            "Requirement already satisfied: threadpoolctl>=2.0.0 in /usr/local/lib/python3.10/dist-packages (from scikit-learn>=0.21.3->seqeval) (3.2.0)\n",
            "Building wheels for collected packages: seqeval\n",
            "  Building wheel for seqeval (setup.py) ... \u001b[?25l\u001b[?25hdone\n",
            "  Created wheel for seqeval: filename=seqeval-1.2.2-py3-none-any.whl size=16162 sha256=328f8ce55b8640797aa30f0603084e4ae940cde5fdc3dae13941556e57c2438e\n",
            "  Stored in directory: /root/.cache/pip/wheels/1a/67/4a/ad4082dd7dfc30f2abfe4d80a2ed5926a506eb8a972b4767fa\n",
            "Successfully built seqeval\n",
            "Installing collected packages: seqeval\n",
            "Successfully installed seqeval-1.2.2\n"
          ]
        }
      ]
    },
    {
      "cell_type": "code",
      "source": [
        "import pandas as pd\n",
        "import numpy as np\n",
        "import os\n",
        "from tqdm import tqdm\n",
        "from transformers import shape_list, BertTokenizer, TFBertModel\n",
        "from tensorflow.keras.callbacks import EarlyStopping\n",
        "from tensorflow.keras.preprocessing.sequence import pad_sequences\n",
        "from seqeval.metrics import f1_score, classification_report\n",
        "import tensorflow as tf\n",
        "import urllib.request"
      ],
      "metadata": {
        "id": "6splSdSUXRNg"
      },
      "execution_count": null,
      "outputs": []
    },
    {
      "cell_type": "markdown",
      "source": [
        "# 1. 데이터 로드"
      ],
      "metadata": {
        "id": "VVEfMOvlXbQ7"
      }
    },
    {
      "cell_type": "markdown",
      "source": [
        "##Klue 데이터, 라벨 데이터 로드"
      ],
      "metadata": {
        "id": "B1IRDIHsXfX-"
      }
    },
    {
      "cell_type": "code",
      "source": [
        "from google.colab import drive\n",
        "drive.mount('/content/drive')"
      ],
      "metadata": {
        "colab": {
          "base_uri": "https://localhost:8080/"
        },
        "id": "A_A8DmKPXjO3",
        "outputId": "3211a7bc-ffb3-44e1-b4c2-3302537be211"
      },
      "execution_count": null,
      "outputs": [
        {
          "output_type": "stream",
          "name": "stdout",
          "text": [
            "Mounted at /content/drive\n"
          ]
        }
      ]
    },
    {
      "cell_type": "code",
      "source": [
        "urllib.request.urlretrieve(\"https://raw.githubusercontent.com/ukairia777/tensorflow-nlp-tutorial/main/18.%20Fine-tuning%20BERT%20(Cls%2C%20NER%2C%20NLI)/dataset/ner_train_data.csv\", filename=\"ner_train_data.csv\")\n",
        "urllib.request.urlretrieve(\"https://raw.githubusercontent.com/ukairia777/tensorflow-nlp-tutorial/main/18.%20Fine-tuning%20BERT%20(Cls%2C%20NER%2C%20NLI)/dataset/ner_test_data.csv\", filename=\"ner_test_data.csv\")\n",
        "urllib.request.urlretrieve(\"https://raw.githubusercontent.com/ukairia777/tensorflow-nlp-tutorial/main/18.%20Fine-tuning%20BERT%20(Cls%2C%20NER%2C%20NLI)/dataset/ner_label.txt\", filename=\"ner_label.txt\")"
      ],
      "metadata": {
        "colab": {
          "base_uri": "https://localhost:8080/"
        },
        "id": "w8YOS1QKXnkj",
        "outputId": "33ba4049-9cb2-4906-cfe1-f87e522f8bf2"
      },
      "execution_count": null,
      "outputs": [
        {
          "output_type": "execute_result",
          "data": {
            "text/plain": [
              "('ner_label.txt', <http.client.HTTPMessage at 0x7e9b25ed5cf0>)"
            ]
          },
          "metadata": {},
          "execution_count": 5
        }
      ]
    },
    {
      "cell_type": "markdown",
      "source": [
        "##네이버 챌린지 데이터 로드"
      ],
      "metadata": {
        "id": "gB4caanlXwbl"
      }
    },
    {
      "cell_type": "code",
      "source": [
        "urllib.request.urlretrieve(\"https://raw.githubusercontent.com/naver/nlp-challenge/master/missions/ner/data/train/train_data\", filename=\"naver_train_data.csv\")"
      ],
      "metadata": {
        "colab": {
          "base_uri": "https://localhost:8080/"
        },
        "id": "FxXkJKmRXyyT",
        "outputId": "5ed529c2-5a37-4738-8d30-bd079399aec6"
      },
      "execution_count": null,
      "outputs": [
        {
          "output_type": "execute_result",
          "data": {
            "text/plain": [
              "('naver_train_data.csv', <http.client.HTTPMessage at 0x7e9b25ed5c00>)"
            ]
          },
          "metadata": {},
          "execution_count": 6
        }
      ]
    },
    {
      "cell_type": "markdown",
      "source": [
        "##네이버 NLP 챌린지 데이터를 klue 데이터셋과 동일하게 수정"
      ],
      "metadata": {
        "id": "p2ai8xHWX2_n"
      }
    },
    {
      "cell_type": "code",
      "source": [
        "# 데이터 읽기\n",
        "df = pd.read_csv(\"naver_train_data.csv\", delimiter='\\t', names=['Index', 'Word', 'Tag'])\n",
        "\n",
        "# 문장 번호 만들기\n",
        "df['Sentence_Num'] = (df['Index'] == 1).cumsum()\n",
        "\n",
        "# 각 문장에 대해 단어들을 합치기\n",
        "sentence = df.groupby('Sentence_Num')['Word'].apply(lambda s: ' '.join(s)).reset_index()\n",
        "sentence.columns = ['Sentence_Num', 'Sentence']\n",
        "\n",
        "# 각 문장에 대해 태그들을 합치기\n",
        "tag = df.groupby('Sentence_Num')['Tag'].apply(lambda s: ' '.join(s)).reset_index()\n",
        "tag.columns = ['Sentence_Num', 'Tag']\n",
        "\n",
        "# 두 데이터프레임을 합치기\n",
        "naver_train_df = pd.merge(sentence, tag, on='Sentence_Num')[['Sentence', 'Tag']]\n",
        "\n",
        "# 결과 저장\n",
        "naver_train_df.to_csv(\"new_data.csv\", index=False)"
      ],
      "metadata": {
        "id": "PSJk4IBNX4Vw"
      },
      "execution_count": null,
      "outputs": []
    },
    {
      "cell_type": "code",
      "source": [
        "#개체명 아닌 것들 -표기에서 O표기로\n",
        "naver_train_df['Tag'] = naver_train_df['Tag'].str.replace('-', 'O')\n",
        "#PER_B를 PER-B로\n",
        "naver_train_df['Tag'] = naver_train_df['Tag'].str.replace('_', '-')\n"
      ],
      "metadata": {
        "id": "si1F5o45X6nT"
      },
      "execution_count": null,
      "outputs": []
    },
    {
      "cell_type": "markdown",
      "source": [
        "##Klue, navernlp, 자체구축 데이터셋 합치기"
      ],
      "metadata": {
        "id": "N7mlaB5aX_UX"
      }
    },
    {
      "cell_type": "code",
      "source": [
        "#자체구축 데이터(상호명, 주소구축, 주소보통명사) 로드\n",
        "urllib.request.urlretrieve(\"https://raw.githubusercontent.com/2Moogi/Alice/master/madedata.txt\", filename=\"made_train_data.csv\")\n",
        "made_train_data_df = pd.read_csv(\"made_train_data.csv\")"
      ],
      "metadata": {
        "id": "BJLOoFX-YFWF"
      },
      "execution_count": null,
      "outputs": []
    },
    {
      "cell_type": "code",
      "source": [
        "# Klue 데이터 -> CSV 파일을 데이터프레임으로 읽어오기\n",
        "klue_train_df = pd.read_csv('ner_train_data.csv')"
      ],
      "metadata": {
        "id": "47w3MAQLYw6Q"
      },
      "execution_count": null,
      "outputs": []
    },
    {
      "cell_type": "code",
      "source": [
        "# 행 방향으로 합치기 (위 아래로 합치기)\n",
        "result = pd.concat([klue_train_df, naver_train_df,made_train_data_df], ignore_index=True)"
      ],
      "metadata": {
        "id": "m1ODznUAZhp4"
      },
      "execution_count": null,
      "outputs": []
    },
    {
      "cell_type": "code",
      "source": [
        "# 훈련데이터 result의 모든 ORG 태그를 LOC로 바꾸는 코드\n",
        "result['Tag'] = result['Tag'].str.replace('ORG-B', 'LOC')\n",
        "result['Tag'] = result['Tag'].str.replace('ORG-I', 'LOC')\n",
        "result['Tag'] = result['Tag'].str.replace('LOC-B', 'LOC')\n",
        "result['Tag'] = result['Tag'].str.replace('LOC-I', 'LOC')"
      ],
      "metadata": {
        "id": "HSv1ojVDbNXN"
      },
      "execution_count": null,
      "outputs": []
    },
    {
      "cell_type": "code",
      "source": [
        "from pprint import pprint"
      ],
      "metadata": {
        "id": "uq7zMfdWbQiq"
      },
      "execution_count": null,
      "outputs": []
    },
    {
      "cell_type": "code",
      "source": [
        "df = pd.DataFrame(result)\n",
        "\n",
        "def extract_entities_from_dataframe(dataframe, entity_type):\n",
        "    extracted_entities = []\n",
        "\n",
        "    for idx, row in dataframe.iterrows():\n",
        "        sentence = row['Sentence']\n",
        "        tag_sequence = row['Tag']\n",
        "        entity = ''\n",
        "        inside_entity = False\n",
        "        tags_split = tag_sequence.split()\n",
        "\n",
        "        for word, tag in zip(re.findall(r'\\S+', sentence), tags_split):\n",
        "            if entity_type in tag:\n",
        "                if 'B' in tag:\n",
        "                    entity = word\n",
        "                    inside_entity = True\n",
        "                elif inside_entity:\n",
        "                    entity += ' ' + word\n",
        "            else:\n",
        "                if inside_entity:\n",
        "                    extracted_entities.append(entity)\n",
        "                    entity = ''\n",
        "                    inside_entity = False\n",
        "\n",
        "        if inside_entity:\n",
        "            extracted_entities.append(entity)\n",
        "\n",
        "    return extracted_entities"
      ],
      "metadata": {
        "id": "eFYhDoPfbVre"
      },
      "execution_count": null,
      "outputs": []
    },
    {
      "cell_type": "code",
      "source": [
        "test_ner_df = pd.read_csv('ner_test_data.csv')"
      ],
      "metadata": {
        "id": "nmBD2BACbX5b"
      },
      "execution_count": null,
      "outputs": []
    },
    {
      "cell_type": "code",
      "source": [
        "# 테스트데이터 result의 모든 ORG 태그를 LOC로 바꾸는 코드\n",
        "test_ner_df['Tag'] = test_ner_df['Tag'].str.replace('ORG-B', 'LOC')\n",
        "test_ner_df['Tag'] = test_ner_df['Tag'].str.replace('ORG-I', 'LOC')\n",
        "test_ner_df['Tag'] = test_ner_df['Tag'].str.replace('LOC-B', 'LOC')\n",
        "test_ner_df['Tag'] = test_ner_df['Tag'].str.replace('LOC-I', 'LOC')"
      ],
      "metadata": {
        "id": "UjXP6HpibaCw"
      },
      "execution_count": null,
      "outputs": []
    },
    {
      "cell_type": "code",
      "source": [
        "train_data_sentence = [sent.split() for sent in result['Sentence'].values]\n",
        "test_data_sentence = [sent.split() for sent in test_ner_df['Sentence'].values]\n",
        "train_data_label = [tag.split() for tag in result['Tag'].values]\n",
        "test_data_label = [tag.split() for tag in test_ner_df['Tag'].values]"
      ],
      "metadata": {
        "id": "JrrZ75G_bbmC"
      },
      "execution_count": null,
      "outputs": []
    },
    {
      "cell_type": "code",
      "source": [
        "labels = [label.strip() for label in open('ner_label.txt', 'r', encoding='utf-8')]"
      ],
      "metadata": {
        "id": "WSgBLlyjbe1U"
      },
      "execution_count": null,
      "outputs": []
    },
    {
      "cell_type": "code",
      "source": [
        "labels.remove('ORG-B')\n",
        "labels.remove('ORG-I')\n",
        "labels.remove('LOC-B')\n",
        "labels.remove('LOC-I')\n",
        "labels.append('LOC')"
      ],
      "metadata": {
        "id": "NuEDokgPbwsm"
      },
      "execution_count": null,
      "outputs": []
    },
    {
      "cell_type": "code",
      "source": [
        "tag_to_index = {tag: index for index, tag in enumerate(labels)}\n",
        "index_to_tag = {index: tag for index, tag in enumerate(labels)}"
      ],
      "metadata": {
        "id": "7Suy6o8dbz8w"
      },
      "execution_count": null,
      "outputs": []
    },
    {
      "cell_type": "code",
      "source": [
        "tag_size = len(tag_to_index)"
      ],
      "metadata": {
        "id": "KvbcW9XNgyrZ"
      },
      "execution_count": null,
      "outputs": []
    },
    {
      "cell_type": "markdown",
      "source": [
        "#2. 전처리"
      ],
      "metadata": {
        "id": "yCzZnQCZcq96"
      }
    },
    {
      "cell_type": "code",
      "source": [
        "tokenizer = BertTokenizer.from_pretrained(\"klue/bert-base\")"
      ],
      "metadata": {
        "colab": {
          "base_uri": "https://localhost:8080/",
          "height": 145,
          "referenced_widgets": [
            "90e692950b57421bab82466d8d4fc632",
            "7a740c29989b4d2d872240dae965629e",
            "2be8e3732698411899d1352945e79f33",
            "1c76db58284a492fb2ee86e2127d8f25",
            "c774bcdabfdb4e7c922bdac709933862",
            "828df3f5f3074c52aa7ff7a3865e1e37",
            "7d66ddc6724f40ef8de7949188eb0683",
            "74fc1dd9af0947e8a195afa226180c0a",
            "ebe8731c348c462f847c3fb1816f1eb7",
            "eec82acb41f34ea99477c61803de04d8",
            "6963e8c7e11c4701bb28ab85512d2507",
            "68692f3bfdad4cd2b0166bd4df0bfb05",
            "5395795bc35945d2bd510e099cbfedab",
            "fc114cabb88049bba568d0b3a665ade0",
            "72ab0e9c100d466e90c9a9897a7655f0",
            "a39d6a3db0c84fccb18cf587d5ae6fdd",
            "e867093b00bc4fe89f921dd12f5febed",
            "1d446d42ce334973b48d27ad3f0589bc",
            "f4451a5597e7469098ad6121a1323895",
            "aa42d122446d494e9e044cb425f6ef21",
            "1360656a49e145dc934a270994d1ea9d",
            "ef851d3b08e14ec8bccb1c49baa11538",
            "65d07683a9444ebcb01c68918a6752c1",
            "cdf7d517f1b24a3f9bfd6bc7bd7db052",
            "1cfa47c5cf2b45be84a24eacdb5364f2",
            "c76b37283957454ba62930af767788f4",
            "e16efc94dc424f43bbfe8babd42cc51d",
            "9d2a1d6344644e589ad904bea949e11f",
            "1ec8a1220e90464aaab14700bc73338c",
            "7784894c38b34930bef135311c08b509",
            "56a0be286cda411c83c1e780545fba09",
            "01dcf3b5ce224761ab1b7497d1d65a35",
            "5c56e2fdd7ba45299980733d7c06562c",
            "6f905d91f3c347278877f2783f26e423",
            "531d5149004a4e42b9631541741faad5",
            "8821904489d343778390fb32d6d1cc73",
            "157de6219918474f81fe7e28f646670c",
            "df2bb16856c94132bb09b174de555a92",
            "c5b5536340d84af99115953c25f76a5b",
            "75e7d47899d641dbb76f82a9c1dcd2c0",
            "370097c93b2f4826a1b5c1496b0095da",
            "6ee9e4c5ecd24af788e68635f09c1c72",
            "5f79c2b06d21446f865dc4a3c1280484",
            "1e45d60ed47c4f868516969112573bb7"
          ]
        },
        "id": "yNBxiCVscuaZ",
        "outputId": "a167f410-9da6-4270-b921-d8ad1733a796"
      },
      "execution_count": null,
      "outputs": [
        {
          "output_type": "display_data",
          "data": {
            "text/plain": [
              "Downloading (…)solve/main/vocab.txt:   0%|          | 0.00/248k [00:00<?, ?B/s]"
            ],
            "application/vnd.jupyter.widget-view+json": {
              "version_major": 2,
              "version_minor": 0,
              "model_id": "90e692950b57421bab82466d8d4fc632"
            }
          },
          "metadata": {}
        },
        {
          "output_type": "display_data",
          "data": {
            "text/plain": [
              "Downloading (…)cial_tokens_map.json:   0%|          | 0.00/125 [00:00<?, ?B/s]"
            ],
            "application/vnd.jupyter.widget-view+json": {
              "version_major": 2,
              "version_minor": 0,
              "model_id": "68692f3bfdad4cd2b0166bd4df0bfb05"
            }
          },
          "metadata": {}
        },
        {
          "output_type": "display_data",
          "data": {
            "text/plain": [
              "Downloading (…)okenizer_config.json:   0%|          | 0.00/289 [00:00<?, ?B/s]"
            ],
            "application/vnd.jupyter.widget-view+json": {
              "version_major": 2,
              "version_minor": 0,
              "model_id": "65d07683a9444ebcb01c68918a6752c1"
            }
          },
          "metadata": {}
        },
        {
          "output_type": "display_data",
          "data": {
            "text/plain": [
              "Downloading (…)lve/main/config.json:   0%|          | 0.00/425 [00:00<?, ?B/s]"
            ],
            "application/vnd.jupyter.widget-view+json": {
              "version_major": 2,
              "version_minor": 0,
              "model_id": "6f905d91f3c347278877f2783f26e423"
            }
          },
          "metadata": {}
        }
      ]
    },
    {
      "cell_type": "code",
      "source": [
        "def convert_examples_to_features(examples, labels, max_seq_len, tokenizer,\n",
        "                                 pad_token_id_for_segment=0, pad_token_id_for_label=-100):\n",
        "    cls_token = tokenizer.cls_token\n",
        "    sep_token = tokenizer.sep_token\n",
        "    pad_token_id = tokenizer.pad_token_id\n",
        "\n",
        "    input_ids, attention_masks, token_type_ids, data_labels = [], [], [], []\n",
        "\n",
        "    for example, label in tqdm(zip(examples, labels), total=len(examples)):\n",
        "        tokens = []\n",
        "        labels_ids = []\n",
        "        for one_word, label_token in zip(example, label):\n",
        "            subword_tokens = tokenizer.tokenize(one_word)\n",
        "            tokens.extend(subword_tokens)\n",
        "            labels_ids.extend([tag_to_index[label_token]]+ [pad_token_id_for_label] * (len(subword_tokens) - 1))\n",
        "\n",
        "        special_tokens_count = 2\n",
        "        if len(tokens) > max_seq_len - special_tokens_count:\n",
        "            tokens = tokens[:(max_seq_len - special_tokens_count)]\n",
        "            labels_ids = labels_ids[:(max_seq_len - special_tokens_count)]\n",
        "\n",
        "        tokens += [sep_token]\n",
        "        labels_ids += [pad_token_id_for_label]\n",
        "        tokens = [cls_token] + tokens\n",
        "        labels_ids = [pad_token_id_for_label] + labels_ids\n",
        "\n",
        "        input_id = tokenizer.convert_tokens_to_ids(tokens)\n",
        "        attention_mask = [1] * len(input_id)\n",
        "        padding_count = max_seq_len - len(input_id)\n",
        "\n",
        "        input_id = input_id + ([pad_token_id] * padding_count)\n",
        "        attention_mask = attention_mask + ([0] * padding_count)\n",
        "        token_type_id = [pad_token_id_for_segment] * max_seq_len\n",
        "        label = labels_ids + ([pad_token_id_for_label] * padding_count)\n",
        "\n",
        "        assert len(input_id) == max_seq_len, \"Error with input length {} vs {}\".format(len(input_id), max_seq_len)\n",
        "        assert len(attention_mask) == max_seq_len, \"Error with attention mask length {} vs {}\".format(len(attention_mask), max_seq_len)\n",
        "        assert len(token_type_id) == max_seq_len, \"Error with token type length {} vs {}\".format(len(token_type_id), max_seq_len)\n",
        "        assert len(label) == max_seq_len, \"Error with labels length {} vs {}\".format(len(label), max_seq_len)\n",
        "\n",
        "        input_ids.append(input_id)\n",
        "        attention_masks.append(attention_mask)\n",
        "        token_type_ids.append(token_type_id)\n",
        "        data_labels.append(label)\n",
        "\n",
        "    input_ids = np.array(input_ids, dtype=int)\n",
        "    attention_masks = np.array(attention_masks, dtype=int)\n",
        "    token_type_ids = np.array(token_type_ids, dtype=int)\n",
        "    data_labels = np.asarray(data_labels, dtype=np.int32)\n",
        "\n",
        "    return (input_ids, attention_masks, token_type_ids), data_labels"
      ],
      "metadata": {
        "id": "_LcF6Jh0cyw5"
      },
      "execution_count": null,
      "outputs": []
    },
    {
      "cell_type": "code",
      "source": [
        "X_train, y_train = convert_examples_to_features(train_data_sentence, train_data_label, max_seq_len=128, tokenizer=tokenizer)"
      ],
      "metadata": {
        "colab": {
          "base_uri": "https://localhost:8080/"
        },
        "id": "FC5IEUsAcyzT",
        "outputId": "c3fec814-9922-45bf-c760-d178e747db78"
      },
      "execution_count": null,
      "outputs": [
        {
          "output_type": "stream",
          "name": "stderr",
          "text": [
            "100%|██████████| 148509/148509 [02:22<00:00, 1043.72it/s]\n"
          ]
        }
      ]
    },
    {
      "cell_type": "code",
      "source": [
        "X_test, y_test = convert_examples_to_features(test_data_sentence, test_data_label, max_seq_len=128, tokenizer=tokenizer)"
      ],
      "metadata": {
        "colab": {
          "base_uri": "https://localhost:8080/"
        },
        "id": "vV-ETxQ9c8qG",
        "outputId": "ec65a94e-9b6a-4113-d591-210fbfd06a6f"
      },
      "execution_count": null,
      "outputs": [
        {
          "output_type": "stream",
          "name": "stderr",
          "text": [
            "100%|██████████| 9000/9000 [00:05<00:00, 1619.10it/s]\n"
          ]
        }
      ]
    },
    {
      "cell_type": "code",
      "source": [
        "class TFBertForTokenClassification(tf.keras.Model):\n",
        "    def __init__(self, model_name, num_labels):\n",
        "        super(TFBertForTokenClassification, self).__init__()\n",
        "        self.bert = TFBertModel.from_pretrained(model_name, from_pt=True)\n",
        "        self.classifier = tf.keras.layers.Dense(num_labels,kernel_initializer=tf.keras.\n",
        "                                                initializers.TruncatedNormal(0.02),name='classifier')\n",
        "\n",
        "    def call(self, inputs):\n",
        "        input_ids, attention_mask, token_type_ids = inputs\n",
        "        outputs = self.bert(input_ids=input_ids, attention_mask=attention_mask,\n",
        "                            token_type_ids=token_type_ids)\n",
        "        # 전 체 시 퀀 스 에 대 해 서 분 류 해 야 하 므 로 outputs[0]임 에 주 의\n",
        "        all_output = outputs[0]\n",
        "        prediction = self.classifier(all_output)\n",
        "\n",
        "        return prediction"
      ],
      "metadata": {
        "id": "T7oXgepTdA7v"
      },
      "execution_count": null,
      "outputs": []
    },
    {
      "cell_type": "code",
      "source": [
        "labels = tf.constant([[-100, 2, 1, -100]])\n",
        "logits = tf.constant([[[0.8, 0.1, 0.1], [0.06, 0.04, 0.9], [0.75, 0.1, 0.15],[0.4, 0.5, 0.1]]])"
      ],
      "metadata": {
        "id": "M4Ar8L-ed_wr"
      },
      "execution_count": null,
      "outputs": []
    },
    {
      "cell_type": "code",
      "source": [
        "active_loss = tf.reshape(labels, (-1,)) != -100\n",
        "print(active_loss)"
      ],
      "metadata": {
        "colab": {
          "base_uri": "https://localhost:8080/"
        },
        "id": "nACLRpZcd_7n",
        "outputId": "d7100e6c-935e-423f-de0a-01ef8183d903"
      },
      "execution_count": null,
      "outputs": [
        {
          "output_type": "stream",
          "name": "stdout",
          "text": [
            "tf.Tensor([False  True  True False], shape=(4,), dtype=bool)\n"
          ]
        }
      ]
    },
    {
      "cell_type": "code",
      "source": [
        "reduced_logits = tf.boolean_mask(tf.reshape(logits, (-1, shape_list(logits)[2])),active_loss)\n",
        "print(reduced_logits)"
      ],
      "metadata": {
        "colab": {
          "base_uri": "https://localhost:8080/"
        },
        "id": "Ko9TLOe1eFco",
        "outputId": "d61664c4-1917-43f1-9e55-54ac22758a71"
      },
      "execution_count": null,
      "outputs": [
        {
          "output_type": "stream",
          "name": "stdout",
          "text": [
            "tf.Tensor(\n",
            "[[0.06 0.04 0.9 ]\n",
            " [0.75 0.1  0.15]], shape=(2, 3), dtype=float32)\n"
          ]
        }
      ]
    },
    {
      "cell_type": "code",
      "source": [
        "labels = tf.boolean_mask(tf.reshape(labels, (-1,)), active_loss)\n",
        "print(labels)"
      ],
      "metadata": {
        "colab": {
          "base_uri": "https://localhost:8080/"
        },
        "id": "5nKboHJEeFim",
        "outputId": "94341ae7-229c-427f-b098-fcc09740766e"
      },
      "execution_count": null,
      "outputs": [
        {
          "output_type": "stream",
          "name": "stdout",
          "text": [
            "tf.Tensor([2 1], shape=(2,), dtype=int32)\n"
          ]
        }
      ]
    },
    {
      "cell_type": "code",
      "source": [
        "def compute_loss(labels, logits):\n",
        "    # 다 중 클 래 스 분 류 문 제 에 서 소 프 트 맥 스 함 수 미 사 용 시 from_logits=True로 설 정.\n",
        "    loss_fn = tf.keras.losses.SparseCategoricalCrossentropy(\n",
        "    from_logits=True, reduction=tf.keras.losses.Reduction.NONE)\n",
        "\n",
        "    # -100의 값 을 가 진 정 수 에 대 해 서 는 오 차 를 반 영 하 지 않 도 록 labels를 수 정.\n",
        "    active_loss = tf.reshape(labels, (-1,)) != -100\n",
        "\n",
        "    # activa_loss로 부 터 reduced_logits과 labels를 각 각 얻 는 다.\n",
        "    reduced_logits = tf.boolean_mask(tf.reshape(logits, (-1, shape_list(logits)[2])), active_loss)\n",
        "    labels = tf.boolean_mask(tf.reshape(labels, (-1,)), active_loss)\n",
        "\n",
        "    return loss_fn(labels, reduced_logits)"
      ],
      "metadata": {
        "id": "t927QPCeeL1s"
      },
      "execution_count": null,
      "outputs": []
    },
    {
      "cell_type": "markdown",
      "source": [
        "#3. 모델링과 학습\n"
      ],
      "metadata": {
        "id": "khAypKYkenwp"
      }
    },
    {
      "cell_type": "code",
      "source": [
        "from transformers import TFBertForTokenClassification"
      ],
      "metadata": {
        "id": "-c2lr3lFepyF"
      },
      "execution_count": null,
      "outputs": []
    },
    {
      "cell_type": "code",
      "source": [
        "# TPU 작 동 을 위 한 코 드\n",
        "resolver = tf.distribute.cluster_resolver.TPUClusterResolver(tpu='grpc://' + os.environ['COLAB_TPU_ADDR'])\n",
        "tf.config.experimental_connect_to_cluster(resolver)\n",
        "tf.tpu.experimental.initialize_tpu_system(resolver)\n",
        "strategy = tf.distribute.experimental.TPUStrategy(resolver)"
      ],
      "metadata": {
        "colab": {
          "base_uri": "https://localhost:8080/"
        },
        "id": "GtPPbOKderJs",
        "outputId": "57b06c24-9c5e-45bc-bf0e-f15942961961"
      },
      "execution_count": null,
      "outputs": [
        {
          "output_type": "stream",
          "name": "stderr",
          "text": [
            "WARNING:absl:`tf.distribute.experimental.TPUStrategy` is deprecated, please use  the non experimental symbol `tf.distribute.TPUStrategy` instead.\n"
          ]
        }
      ]
    },
    {
      "cell_type": "code",
      "source": [
        "with strategy.scope():\n",
        "  model = TFBertForTokenClassification.from_pretrained(\"klue/bert-base\", num_labels=tag_size, from_pt=True)\n",
        "  optimizer = tf.keras.optimizers.Adam(learning_rate=5e-5)\n",
        "  model.compile(optimizer=optimizer, loss=model.hf_compute_loss)"
      ],
      "metadata": {
        "colab": {
          "base_uri": "https://localhost:8080/"
        },
        "id": "cLCn_SCwerXQ",
        "outputId": "b02eb3e2-5fff-4b26-9796-62c3d876ae13"
      },
      "execution_count": null,
      "outputs": [
        {
          "output_type": "stream",
          "name": "stderr",
          "text": [
            "Some weights of the PyTorch model were not used when initializing the TF 2.0 model TFBertForTokenClassification: ['bert.embeddings.position_ids']\n",
            "- This IS expected if you are initializing TFBertForTokenClassification from a PyTorch model trained on another task or with another architecture (e.g. initializing a TFBertForSequenceClassification model from a BertForPreTraining model).\n",
            "- This IS NOT expected if you are initializing TFBertForTokenClassification from a PyTorch model that you expect to be exactly identical (e.g. initializing a TFBertForSequenceClassification model from a BertForSequenceClassification model).\n",
            "Some weights or buffers of the TF 2.0 model TFBertForTokenClassification were not initialized from the PyTorch model and are newly initialized: ['classifier.weight', 'classifier.bias']\n",
            "You should probably TRAIN this model on a down-stream task to be able to use it for predictions and inference.\n"
          ]
        }
      ]
    },
    {
      "cell_type": "code",
      "source": [
        "class F1score(tf.keras.callbacks.Callback):\n",
        "    def __init__(self, X_test, y_test):\n",
        "        self.X_test = X_test\n",
        "        self.y_test = y_test\n",
        "\n",
        "    def sequences_to_tags(self, label_ids, pred_ids):\n",
        "      label_list = []\n",
        "      pred_list = []\n",
        "\n",
        "      for i in range(0, len(label_ids)):\n",
        "        label_tag = []\n",
        "        pred_tag = []\n",
        "\n",
        "        for label_index, pred_index in zip(label_ids[i], pred_ids[i]):\n",
        "          if label_index != -100:\n",
        "            label_tag.append(index_to_tag[label_index])\n",
        "            pred_tag.append(index_to_tag[pred_index])\n",
        "\n",
        "        label_list.append(label_tag)\n",
        "        pred_list.append(pred_tag)\n",
        "\n",
        "      return label_list, pred_list\n",
        "\n",
        "    def on_epoch_end(self, epoch, logs={}):\n",
        "      y_predicted = self.model.predict(self.X_test)\n",
        "      y_predicted = np.argmax(y_predicted.logits, axis = 2)\n",
        "\n",
        "      label_list, pred_list = self.sequences_to_tags(self.y_test, y_predicted)\n",
        "\n",
        "      score = f1_score(label_list, pred_list, suffix=True)\n",
        "      print(' - f1: {:04.2f}'.format(score * 100))\n",
        "      print(classification_report(label_list, pred_list, suffix=True))"
      ],
      "metadata": {
        "id": "bKjWDubzerZb"
      },
      "execution_count": null,
      "outputs": []
    },
    {
      "cell_type": "code",
      "source": [
        "f1_score_report = F1score(X_test, y_test)"
      ],
      "metadata": {
        "id": "CRQaws0_frBz"
      },
      "execution_count": null,
      "outputs": []
    },
    {
      "cell_type": "code",
      "source": [
        "model.fit(\n",
        "    X_train, y_train, epochs=8, batch_size=64,\n",
        "    callbacks = [f1_score_report]\n",
        ")"
      ],
      "metadata": {
        "colab": {
          "base_uri": "https://localhost:8080/"
        },
        "id": "2VOk1w33frD1",
        "outputId": "978bbaa6-3eaf-472c-c61d-948aff866903"
      },
      "execution_count": null,
      "outputs": [
        {
          "output_type": "stream",
          "name": "stdout",
          "text": [
            "Epoch 1/8\n",
            "   6/2321 [..............................] - ETA: 3:51 - loss: 2.0220"
          ]
        },
        {
          "output_type": "stream",
          "name": "stderr",
          "text": [
            "WARNING:tensorflow:Callback method `on_train_batch_end` is slow compared to the batch time (batch time: 0.0134s vs `on_train_batch_end` time: 7.0059s). Check your callbacks.\n"
          ]
        },
        {
          "output_type": "stream",
          "name": "stdout",
          "text": [
            "282/282 [==============================] - 21s 52ms/step\n"
          ]
        },
        {
          "output_type": "stream",
          "name": "stderr",
          "text": [
            "/usr/local/lib/python3.10/dist-packages/seqeval/metrics/sequence_labeling.py:167: UserWarning: LOC seems not to be NE tag.\n",
            "  warnings.warn('{} seems not to be NE tag.'.format(chunk))\n"
          ]
        },
        {
          "output_type": "stream",
          "name": "stdout",
          "text": [
            " - f1: 88.84\n",
            "              precision    recall  f1-score   support\n",
            "\n",
            "         AFW       0.67      0.68      0.67       394\n",
            "         ANM       0.78      0.83      0.81       701\n",
            "         CVL       0.89      0.86      0.87      5758\n",
            "         DAT       0.93      0.94      0.93      2521\n",
            "         EVT       0.80      0.79      0.80      1094\n",
            "         FLD       0.81      0.60      0.69       228\n",
            "          LO       0.89      0.91      0.90      5456\n",
            "         MAT       0.50      0.25      0.33        12\n",
            "         NUM       0.93      0.93      0.93      5590\n",
            "         PER       0.92      0.91      0.92      4426\n",
            "         PLT       0.75      0.26      0.39        34\n",
            "         TIM       0.83      0.93      0.88       314\n",
            "         TRM       0.83      0.77      0.80      1964\n",
            "\n",
            "   micro avg       0.89      0.88      0.89     28492\n",
            "   macro avg       0.81      0.74      0.76     28492\n",
            "weighted avg       0.89      0.88      0.89     28492\n",
            "\n",
            "2321/2321 [==============================] - 396s 125ms/step - loss: 0.2243\n",
            "Epoch 2/8\n",
            "282/282 [==============================] - 7s 20ms/step\n",
            " - f1: 91.99\n",
            "              precision    recall  f1-score   support\n",
            "\n",
            "         AFW       0.77      0.79      0.78       394\n",
            "         ANM       0.83      0.88      0.86       701\n",
            "         CVL       0.91      0.91      0.91      5758\n",
            "         DAT       0.95      0.95      0.95      2521\n",
            "         EVT       0.81      0.84      0.83      1094\n",
            "         FLD       0.77      0.79      0.78       228\n",
            "          LO       0.94      0.93      0.94      5456\n",
            "         MAT       0.55      0.50      0.52        12\n",
            "         NUM       0.94      0.95      0.95      5590\n",
            "         PER       0.94      0.94      0.94      4426\n",
            "         PLT       0.69      0.79      0.74        34\n",
            "         TIM       0.89      0.94      0.92       314\n",
            "         TRM       0.87      0.86      0.86      1964\n",
            "\n",
            "   micro avg       0.92      0.92      0.92     28492\n",
            "   macro avg       0.84      0.85      0.84     28492\n",
            "weighted avg       0.92      0.92      0.92     28492\n",
            "\n",
            "2321/2321 [==============================] - 236s 102ms/step - loss: 0.1050\n",
            "Epoch 3/8\n",
            "282/282 [==============================] - 6s 20ms/step\n",
            " - f1: 94.02\n",
            "              precision    recall  f1-score   support\n",
            "\n",
            "         AFW       0.82      0.82      0.82       394\n",
            "         ANM       0.85      0.92      0.88       701\n",
            "         CVL       0.93      0.94      0.93      5758\n",
            "         DAT       0.96      0.97      0.96      2521\n",
            "         EVT       0.88      0.87      0.87      1094\n",
            "         FLD       0.90      0.77      0.83       228\n",
            "          LO       0.95      0.95      0.95      5456\n",
            "         MAT       1.00      0.50      0.67        12\n",
            "         NUM       0.95      0.97      0.96      5590\n",
            "         PER       0.96      0.95      0.96      4426\n",
            "         PLT       0.88      0.62      0.72        34\n",
            "         TIM       0.93      0.96      0.95       314\n",
            "         TRM       0.91      0.90      0.90      1964\n",
            "\n",
            "   micro avg       0.94      0.94      0.94     28492\n",
            "   macro avg       0.92      0.86      0.88     28492\n",
            "weighted avg       0.94      0.94      0.94     28492\n",
            "\n",
            "2321/2321 [==============================] - 235s 101ms/step - loss: 0.0605\n",
            "Epoch 4/8\n",
            "282/282 [==============================] - 7s 23ms/step\n",
            " - f1: 94.59\n",
            "              precision    recall  f1-score   support\n",
            "\n",
            "         AFW       0.85      0.86      0.86       394\n",
            "         ANM       0.89      0.92      0.91       701\n",
            "         CVL       0.95      0.93      0.94      5758\n",
            "         DAT       0.97      0.97      0.97      2521\n",
            "         EVT       0.88      0.87      0.88      1094\n",
            "         FLD       0.82      0.91      0.86       228\n",
            "          LO       0.96      0.95      0.96      5456\n",
            "         MAT       0.69      0.75      0.72        12\n",
            "         NUM       0.96      0.97      0.96      5590\n",
            "         PER       0.96      0.96      0.96      4426\n",
            "         PLT       0.84      0.79      0.82        34\n",
            "         TIM       0.92      0.97      0.95       314\n",
            "         TRM       0.91      0.91      0.91      1964\n",
            "\n",
            "   micro avg       0.95      0.95      0.95     28492\n",
            "   macro avg       0.89      0.91      0.90     28492\n",
            "weighted avg       0.95      0.95      0.95     28492\n",
            "\n",
            "2321/2321 [==============================] - 234s 101ms/step - loss: 0.0393\n",
            "Epoch 5/8\n",
            "282/282 [==============================] - 7s 21ms/step\n",
            " - f1: 95.21\n",
            "              precision    recall  f1-score   support\n",
            "\n",
            "         AFW       0.88      0.87      0.88       394\n",
            "         ANM       0.91      0.92      0.91       701\n",
            "         CVL       0.95      0.94      0.95      5758\n",
            "         DAT       0.95      0.98      0.97      2521\n",
            "         EVT       0.89      0.92      0.90      1094\n",
            "         FLD       0.86      0.91      0.88       228\n",
            "          LO       0.96      0.96      0.96      5456\n",
            "         MAT       0.89      0.67      0.76        12\n",
            "         NUM       0.97      0.97      0.97      5590\n",
            "         PER       0.97      0.96      0.97      4426\n",
            "         PLT       0.91      0.85      0.88        34\n",
            "         TIM       0.92      0.97      0.94       314\n",
            "         TRM       0.92      0.92      0.92      1964\n",
            "\n",
            "   micro avg       0.95      0.95      0.95     28492\n",
            "   macro avg       0.92      0.91      0.91     28492\n",
            "weighted avg       0.95      0.95      0.95     28492\n",
            "\n",
            "2321/2321 [==============================] - 237s 102ms/step - loss: 0.0289\n",
            "Epoch 6/8\n",
            "282/282 [==============================] - 6s 21ms/step\n",
            " - f1: 95.45\n",
            "              precision    recall  f1-score   support\n",
            "\n",
            "         AFW       0.85      0.88      0.87       394\n",
            "         ANM       0.91      0.91      0.91       701\n",
            "         CVL       0.96      0.94      0.95      5758\n",
            "         DAT       0.97      0.97      0.97      2521\n",
            "         EVT       0.90      0.92      0.91      1094\n",
            "         FLD       0.82      0.91      0.86       228\n",
            "          LO       0.96      0.96      0.96      5456\n",
            "         MAT       0.90      0.75      0.82        12\n",
            "         NUM       0.97      0.97      0.97      5590\n",
            "         PER       0.97      0.97      0.97      4426\n",
            "         PLT       0.91      0.85      0.88        34\n",
            "         TIM       0.95      0.97      0.96       314\n",
            "         TRM       0.92      0.92      0.92      1964\n",
            "\n",
            "   micro avg       0.96      0.95      0.95     28492\n",
            "   macro avg       0.92      0.92      0.92     28492\n",
            "weighted avg       0.96      0.95      0.95     28492\n",
            "\n",
            "2321/2321 [==============================] - 238s 103ms/step - loss: 0.0236\n",
            "Epoch 7/8\n",
            "282/282 [==============================] - 7s 22ms/step\n",
            " - f1: 95.61\n",
            "              precision    recall  f1-score   support\n",
            "\n",
            "         AFW       0.84      0.89      0.86       394\n",
            "         ANM       0.92      0.92      0.92       701\n",
            "         CVL       0.95      0.95      0.95      5758\n",
            "         DAT       0.97      0.98      0.98      2521\n",
            "         EVT       0.92      0.91      0.91      1094\n",
            "         FLD       0.88      0.86      0.87       228\n",
            "          LO       0.97      0.96      0.96      5456\n",
            "         MAT       0.90      0.75      0.82        12\n",
            "         NUM       0.97      0.98      0.97      5590\n",
            "         PER       0.96      0.98      0.97      4426\n",
            "         PLT       0.89      0.91      0.90        34\n",
            "         TIM       0.95      0.98      0.97       314\n",
            "         TRM       0.92      0.92      0.92      1964\n",
            "\n",
            "   micro avg       0.95      0.96      0.96     28492\n",
            "   macro avg       0.92      0.92      0.92     28492\n",
            "weighted avg       0.95      0.96      0.96     28492\n",
            "\n",
            "2321/2321 [==============================] - 231s 100ms/step - loss: 0.0200\n",
            "Epoch 8/8\n",
            "282/282 [==============================] - 7s 21ms/step\n",
            " - f1: 95.88\n",
            "              precision    recall  f1-score   support\n",
            "\n",
            "         AFW       0.88      0.87      0.88       394\n",
            "         ANM       0.93      0.92      0.92       701\n",
            "         CVL       0.95      0.95      0.95      5758\n",
            "         DAT       0.98      0.98      0.98      2521\n",
            "         EVT       0.90      0.93      0.91      1094\n",
            "         FLD       0.91      0.89      0.90       228\n",
            "          LO       0.97      0.96      0.97      5456\n",
            "         MAT       0.64      0.75      0.69        12\n",
            "         NUM       0.97      0.97      0.97      5590\n",
            "         PER       0.97      0.97      0.97      4426\n",
            "         PLT       0.94      0.88      0.91        34\n",
            "         TIM       0.93      0.96      0.95       314\n",
            "         TRM       0.94      0.93      0.94      1964\n",
            "\n",
            "   micro avg       0.96      0.96      0.96     28492\n",
            "   macro avg       0.92      0.92      0.92     28492\n",
            "weighted avg       0.96      0.96      0.96     28492\n",
            "\n",
            "2321/2321 [==============================] - 232s 100ms/step - loss: 0.0182\n"
          ]
        },
        {
          "output_type": "execute_result",
          "data": {
            "text/plain": [
              "<keras.callbacks.History at 0x7e9b09a76b90>"
            ]
          },
          "metadata": {},
          "execution_count": 38
        }
      ]
    },
    {
      "cell_type": "code",
      "source": [
        "def convert_examples_to_features_for_prediction(examples, max_seq_len, tokenizer,\n",
        "                                 pad_token_id_for_segment=0, pad_token_id_for_label=-100):\n",
        "    cls_token = tokenizer.cls_token\n",
        "    sep_token = tokenizer.sep_token\n",
        "    pad_token_id = tokenizer.pad_token_id\n",
        "\n",
        "    input_ids, attention_masks, token_type_ids, label_masks = [], [], [], []\n",
        "\n",
        "    for example in tqdm(examples):\n",
        "        tokens = []\n",
        "        label_mask = []\n",
        "        for one_word in example:\n",
        "            subword_tokens = tokenizer.tokenize(one_word)\n",
        "            tokens.extend(subword_tokens)\n",
        "            label_mask.extend([0]+ [pad_token_id_for_label] * (len(subword_tokens) - 1))\n",
        "\n",
        "        special_tokens_count = 2\n",
        "        if len(tokens) > max_seq_len - special_tokens_count:\n",
        "            tokens = tokens[:(max_seq_len - special_tokens_count)]\n",
        "            label_mask = label_mask[:(max_seq_len - special_tokens_count)]\n",
        "\n",
        "        tokens += [sep_token]\n",
        "        label_mask += [pad_token_id_for_label]\n",
        "        tokens = [cls_token] + tokens\n",
        "        label_mask = [pad_token_id_for_label] + label_mask\n",
        "        input_id = tokenizer.convert_tokens_to_ids(tokens)\n",
        "        attention_mask = [1] * len(input_id)\n",
        "        padding_count = max_seq_len - len(input_id)\n",
        "        input_id = input_id + ([pad_token_id] * padding_count)\n",
        "        attention_mask = attention_mask + ([0] * padding_count)\n",
        "        token_type_id = [pad_token_id_for_segment] * max_seq_len\n",
        "        label_mask = label_mask + ([pad_token_id_for_label] * padding_count)\n",
        "\n",
        "        assert len(input_id) == max_seq_len, \"Error with input length {} vs {}\".format(len(input_id), max_seq_len)\n",
        "        assert len(attention_mask) == max_seq_len, \"Error with attention mask length {} vs {}\".format(len(attention_mask), max_seq_len)\n",
        "        assert len(token_type_id) == max_seq_len, \"Error with token type length {} vs {}\".format(len(token_type_id), max_seq_len)\n",
        "        assert len(label_mask) == max_seq_len, \"Error with labels length {} vs {}\".format(len(label_mask), max_seq_len)\n",
        "\n",
        "        input_ids.append(input_id)\n",
        "        attention_masks.append(attention_mask)\n",
        "        token_type_ids.append(token_type_id)\n",
        "        label_masks.append(label_mask)\n",
        "\n",
        "    input_ids = np.array(input_ids, dtype=int)\n",
        "    attention_masks = np.array(attention_masks, dtype=int)\n",
        "    token_type_ids = np.array(token_type_ids, dtype=int)\n",
        "    label_masks = np.asarray(label_masks, dtype=np.int32)\n",
        "\n",
        "    return (input_ids, attention_masks, token_type_ids), label_masks"
      ],
      "metadata": {
        "id": "1sFU_8oTfsvm"
      },
      "execution_count": 43,
      "outputs": []
    },
    {
      "cell_type": "code",
      "source": [
        "X_pred, label_masks = convert_examples_to_features_for_prediction(test_data_sentence[:5], max_seq_len=128, tokenizer=tokenizer)"
      ],
      "metadata": {
        "colab": {
          "base_uri": "https://localhost:8080/"
        },
        "id": "wItUPnn4fsxl",
        "outputId": "b1c7f76c-6089-4db4-80de-40045207e729"
      },
      "execution_count": null,
      "outputs": [
        {
          "output_type": "stream",
          "name": "stderr",
          "text": [
            "100%|██████████| 5/5 [00:00<00:00, 553.89it/s]\n"
          ]
        }
      ]
    },
    {
      "cell_type": "code",
      "source": [
        "def ner_prediction(examples, max_seq_len, tokenizer):\n",
        "  examples = [sent.split() for sent in examples]\n",
        "  X_pred, label_masks = convert_examples_to_features_for_prediction(examples, max_seq_len=128, tokenizer=tokenizer)\n",
        "  y_predicted = model.predict(X_pred)\n",
        "  y_predicted = np.argmax(y_predicted.logits, axis = 2)\n",
        "\n",
        "  pred_list = []\n",
        "  result_list = []\n",
        "\n",
        "  for i in range(0, len(label_masks)):\n",
        "    pred_tag = []\n",
        "    for label_index, pred_index in zip(label_masks[i], y_predicted[i]):\n",
        "      if label_index != -100:\n",
        "        pred_tag.append(index_to_tag[pred_index])\n",
        "\n",
        "    pred_list.append(pred_tag)\n",
        "\n",
        "  for example, pred in zip(examples, pred_list):\n",
        "    one_sample_result = []\n",
        "    for one_word, label_token in zip(example, pred):\n",
        "      one_sample_result.append((one_word, label_token))\n",
        "    result_list.append(one_sample_result)\n",
        "\n",
        "  return result_list"
      ],
      "metadata": {
        "id": "vR1XNfyyfyrC"
      },
      "execution_count": null,
      "outputs": []
    },
    {
      "cell_type": "code",
      "source": [
        "while True:\n",
        "    sen = input('문장을 입력하세요: ')\n",
        "\n",
        "    if sen == '끝':\n",
        "        break\n",
        "\n",
        "    else:\n",
        "        test_samples = [sen]\n",
        "        result_list = ner_prediction(test_samples, max_seq_len=128, tokenizer=tokenizer)\n",
        "        print('결과:')\n",
        "        print(result_list)\n",
        "        print()"
      ],
      "metadata": {
        "colab": {
          "base_uri": "https://localhost:8080/",
          "height": 515
        },
        "id": "Q6nW7VBlin8o",
        "outputId": "1c2712be-54f6-437c-e293-c39972abfbff"
      },
      "execution_count": 45,
      "outputs": [
        {
          "name": "stdout",
          "output_type": "stream",
          "text": [
            "문장을 입력하세요: 여기 신대방역 스타벅스인데요 사람이 쓰러져있어요 \n"
          ]
        },
        {
          "output_type": "stream",
          "name": "stderr",
          "text": [
            "100%|██████████| 1/1 [00:00<00:00, 813.95it/s]\n"
          ]
        },
        {
          "output_type": "stream",
          "name": "stdout",
          "text": [
            "1/1 [==============================] - 1s 626ms/step\n",
            "결과:\n",
            "[[('여기', 'O'), ('신대방역', 'LOC'), ('스타벅스인데요', 'LOC'), ('사람이', 'O'), ('쓰러져있어요', 'O')]]\n",
            "\n"
          ]
        },
        {
          "output_type": "error",
          "ename": "KeyboardInterrupt",
          "evalue": "ignored",
          "traceback": [
            "\u001b[0;31m---------------------------------------------------------------------------\u001b[0m",
            "\u001b[0;31mKeyboardInterrupt\u001b[0m                         Traceback (most recent call last)",
            "\u001b[0;32m<ipython-input-45-0f8fb1cd223f>\u001b[0m in \u001b[0;36m<cell line: 1>\u001b[0;34m()\u001b[0m\n\u001b[1;32m      1\u001b[0m \u001b[0;32mwhile\u001b[0m \u001b[0;32mTrue\u001b[0m\u001b[0;34m:\u001b[0m\u001b[0;34m\u001b[0m\u001b[0;34m\u001b[0m\u001b[0m\n\u001b[0;32m----> 2\u001b[0;31m     \u001b[0msen\u001b[0m \u001b[0;34m=\u001b[0m \u001b[0minput\u001b[0m\u001b[0;34m(\u001b[0m\u001b[0;34m'문장을 입력하세요: '\u001b[0m\u001b[0;34m)\u001b[0m\u001b[0;34m\u001b[0m\u001b[0;34m\u001b[0m\u001b[0m\n\u001b[0m\u001b[1;32m      3\u001b[0m \u001b[0;34m\u001b[0m\u001b[0m\n\u001b[1;32m      4\u001b[0m     \u001b[0;32mif\u001b[0m \u001b[0msen\u001b[0m \u001b[0;34m==\u001b[0m \u001b[0;34m'끝'\u001b[0m\u001b[0;34m:\u001b[0m\u001b[0;34m\u001b[0m\u001b[0;34m\u001b[0m\u001b[0m\n\u001b[1;32m      5\u001b[0m         \u001b[0;32mbreak\u001b[0m\u001b[0;34m\u001b[0m\u001b[0;34m\u001b[0m\u001b[0m\n",
            "\u001b[0;32m/usr/local/lib/python3.10/dist-packages/ipykernel/kernelbase.py\u001b[0m in \u001b[0;36mraw_input\u001b[0;34m(self, prompt)\u001b[0m\n\u001b[1;32m    849\u001b[0m                 \u001b[0;34m\"raw_input was called, but this frontend does not support input requests.\"\u001b[0m\u001b[0;34m\u001b[0m\u001b[0;34m\u001b[0m\u001b[0m\n\u001b[1;32m    850\u001b[0m             )\n\u001b[0;32m--> 851\u001b[0;31m         return self._input_request(str(prompt),\n\u001b[0m\u001b[1;32m    852\u001b[0m             \u001b[0mself\u001b[0m\u001b[0;34m.\u001b[0m\u001b[0m_parent_ident\u001b[0m\u001b[0;34m,\u001b[0m\u001b[0;34m\u001b[0m\u001b[0;34m\u001b[0m\u001b[0m\n\u001b[1;32m    853\u001b[0m             \u001b[0mself\u001b[0m\u001b[0;34m.\u001b[0m\u001b[0m_parent_header\u001b[0m\u001b[0;34m,\u001b[0m\u001b[0;34m\u001b[0m\u001b[0;34m\u001b[0m\u001b[0m\n",
            "\u001b[0;32m/usr/local/lib/python3.10/dist-packages/ipykernel/kernelbase.py\u001b[0m in \u001b[0;36m_input_request\u001b[0;34m(self, prompt, ident, parent, password)\u001b[0m\n\u001b[1;32m    893\u001b[0m             \u001b[0;32mexcept\u001b[0m \u001b[0mKeyboardInterrupt\u001b[0m\u001b[0;34m:\u001b[0m\u001b[0;34m\u001b[0m\u001b[0;34m\u001b[0m\u001b[0m\n\u001b[1;32m    894\u001b[0m                 \u001b[0;31m# re-raise KeyboardInterrupt, to truncate traceback\u001b[0m\u001b[0;34m\u001b[0m\u001b[0;34m\u001b[0m\u001b[0m\n\u001b[0;32m--> 895\u001b[0;31m                 \u001b[0;32mraise\u001b[0m \u001b[0mKeyboardInterrupt\u001b[0m\u001b[0;34m(\u001b[0m\u001b[0;34m\"Interrupted by user\"\u001b[0m\u001b[0;34m)\u001b[0m \u001b[0;32mfrom\u001b[0m \u001b[0;32mNone\u001b[0m\u001b[0;34m\u001b[0m\u001b[0;34m\u001b[0m\u001b[0m\n\u001b[0m\u001b[1;32m    896\u001b[0m             \u001b[0;32mexcept\u001b[0m \u001b[0mException\u001b[0m \u001b[0;32mas\u001b[0m \u001b[0me\u001b[0m\u001b[0;34m:\u001b[0m\u001b[0;34m\u001b[0m\u001b[0;34m\u001b[0m\u001b[0m\n\u001b[1;32m    897\u001b[0m                 \u001b[0mself\u001b[0m\u001b[0;34m.\u001b[0m\u001b[0mlog\u001b[0m\u001b[0;34m.\u001b[0m\u001b[0mwarning\u001b[0m\u001b[0;34m(\u001b[0m\u001b[0;34m\"Invalid Message:\"\u001b[0m\u001b[0;34m,\u001b[0m \u001b[0mexc_info\u001b[0m\u001b[0;34m=\u001b[0m\u001b[0;32mTrue\u001b[0m\u001b[0;34m)\u001b[0m\u001b[0;34m\u001b[0m\u001b[0;34m\u001b[0m\u001b[0m\n",
            "\u001b[0;31mKeyboardInterrupt\u001b[0m: Interrupted by user"
          ]
        }
      ]
    }
  ]
}